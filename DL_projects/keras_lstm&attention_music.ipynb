{
  "nbformat": 4,
  "nbformat_minor": 0,
  "metadata": {
    "colab": {
      "name": "keras_lstm&attention_music.ipynb",
      "provenance": [],
      "collapsed_sections": []
    },
    "kernelspec": {
      "name": "python3",
      "display_name": "Python 3"
    },
    "language_info": {
      "name": "python"
    },
    "accelerator": "GPU"
  },
  "cells": [
    {
      "cell_type": "code",
      "metadata": {
        "id": "Tkf56fvHpRyl"
      },
      "source": [
        "from music21 import converter, chord, note, instrument, duration, stream\n",
        "import glob\n",
        "import numpy as np"
      ],
      "execution_count": 1,
      "outputs": []
    },
    {
      "cell_type": "code",
      "metadata": {
        "id": "3XZheBkcUEde"
      },
      "source": [
        "seq_len=32"
      ],
      "execution_count": 2,
      "outputs": []
    },
    {
      "cell_type": "code",
      "metadata": {
        "id": "LdT2YS0A39y1"
      },
      "source": [
        "cello_path_list=glob.glob(\"/content/drive/MyDrive/MIDI/suites_for_solo_cello/**/*.mid\", recursive=True)\n",
        "notes_list=[]\n",
        "durations_list=[]\n",
        "\n",
        "for cello_path in cello_path_list:\n",
        "    notes = []\n",
        "    durations = []\n",
        "    original_score = converter.parse(cello_path).chordify()\n",
        "    for element in original_score.flat:\n",
        "        \n",
        "        if isinstance(element, chord.Chord):\n",
        "            notes.append('.'.join(n.nameWithOctave for n in element.pitches))\n",
        "            durations.append(element.duration.quarterLength)\n",
        "\n",
        "        if isinstance(element, note.Note):\n",
        "            if element.isRest:\n",
        "                notes.append(str(element.name))\n",
        "                durations.append(element.duration.quarterLength)\n",
        "            else:\n",
        "                notes.append(str(element.nameWithOctave))\n",
        "                durations.append(element.duration.quarterLength)\n",
        "    notes=[\"START\"]*(seq_len-1)+notes+[\"END\"]\n",
        "    durations=[0]*(seq_len-1)+durations+[0]\n",
        "    notes_list.append(notes)\n",
        "    durations_list.append(durations)"
      ],
      "execution_count": 3,
      "outputs": []
    },
    {
      "cell_type": "code",
      "metadata": {
        "id": "3-IQT9Pm6jUn"
      },
      "source": [
        "#　辞書を作る\n",
        "unique_notes=sorted(set(sum(notes_list, [])))\n",
        "unique_durations=sorted(set(sum(durations_list, [])))\n",
        "\n",
        "note2num_dic={}\n",
        "num2note_dic={}\n",
        "for i, note_i in enumerate(unique_notes):\n",
        "    note2num_dic[note_i]=i\n",
        "    num2note_dic[i]=note_i\n",
        "\n",
        "duration2num_dic={}\n",
        "num2duration_dic={}\n",
        "for i, duration_i in enumerate(unique_durations):\n",
        "    duration2num_dic[duration_i]=i\n",
        "    num2duration_dic[i]=duration_i"
      ],
      "execution_count": 4,
      "outputs": []
    },
    {
      "cell_type": "code",
      "metadata": {
        "id": "bXLQSMTi2huZ"
      },
      "source": [
        "notes_list=[[note2num_dic[note_i] for note_i in notes] for notes in notes_list]\n",
        "durations_list=[[duration2num_dic[duration_i] for duration_i in durations] for durations in durations_list]"
      ],
      "execution_count": 5,
      "outputs": []
    },
    {
      "cell_type": "code",
      "metadata": {
        "id": "8GkQqKK__fNz"
      },
      "source": [
        "from keras.utils import np_utils"
      ],
      "execution_count": 6,
      "outputs": []
    },
    {
      "cell_type": "code",
      "metadata": {
        "id": "n9ihT-cc5gbt"
      },
      "source": [
        "notes_network_input=[]\n",
        "notes_network_output=[]\n",
        "durations_network_input=[]\n",
        "durations_network_output=[]\n",
        "\n",
        "for notes in notes_list:\n",
        "    for i in range(len(notes)-seq_len):\n",
        "         notes_network_input.append(notes[i:i+seq_len])\n",
        "         notes_network_output.append(notes[i+seq_len])\n",
        "\n",
        "for duration_i in durations_list:\n",
        "    for i in range(len(duration_i)-seq_len):\n",
        "         durations_network_input.append(duration_i[i:i+seq_len])\n",
        "         durations_network_output.append(duration_i[i+seq_len])\n",
        "\n",
        "notes_network_input=np.array(notes_network_input)\n",
        "durations_network_input=np.array(durations_network_input)\n",
        "notes_network_output=np_utils.to_categorical(notes_network_output)\n",
        "durations_network_output=np_utils.to_categorical(durations_network_output)"
      ],
      "execution_count": 7,
      "outputs": []
    },
    {
      "cell_type": "code",
      "metadata": {
        "id": "RsMAayo3B8Dw"
      },
      "source": [
        "from tensorflow.keras.layers import LSTM, Input, Dropout, Dense, Activation, Embedding, Concatenate, Reshape\n",
        "from tensorflow.keras.layers import Flatten, RepeatVector, Permute, TimeDistributed\n",
        "from tensorflow.keras.layers import Multiply, Lambda, Softmax\n",
        "import tensorflow.keras.backend as K \n",
        "from tensorflow.keras.models import Model\n",
        "from tensorflow.keras.optimizers import RMSprop, Adam"
      ],
      "execution_count": 8,
      "outputs": []
    },
    {
      "cell_type": "code",
      "metadata": {
        "id": "rtsPg4LlCnr9"
      },
      "source": [
        "embed_size=100\n",
        "rnn_units=256\n",
        "use_attention=True\n",
        "n_notes=notes_network_output.shape[1]\n",
        "n_durations=durations_network_output.shape[1]"
      ],
      "execution_count": 9,
      "outputs": []
    },
    {
      "cell_type": "code",
      "metadata": {
        "id": "MSM9P6GP6oLg"
      },
      "source": [
        "note_input=Input(shape=(None,))\n",
        "duration_input=Input(shape=(None,))\n",
        "\n",
        "x1=Embedding(n_notes, embed_size)(note_input)\n",
        "x2=Embedding(n_durations, embed_size)(duration_input)\n",
        "\n",
        "x=Concatenate()([x1, x2])\n",
        "\n",
        "x=LSTM(rnn_units, return_sequences=True)(x)\n",
        "x=Dropout(0.2)(x)\n",
        "\n",
        "if use_attention:\n",
        "    y=LSTM(rnn_units, return_sequences=True)(x)\n",
        "    x=Dropout(0.2)(y)\n",
        "    x=Dense(1, activation=\"tanh\")(x)\n",
        "    x=Reshape([-1])(x)\n",
        "    alpha=Activation(\"softmax\")(x)\n",
        "    x=RepeatVector(rnn_units)(alpha)\n",
        "    x=Permute((2, 1))(x)\n",
        "\n",
        "    x=Multiply()([x, y])\n",
        "    x=Lambda(lambda input: K.sum(input, axis=1), output_shape=(rnn_units))(x)\n",
        "else:\n",
        "    x=LSTM(rnn_units)(x)\n",
        "    x=Dropout(0.2)(x)\n",
        "note_output=Dense(n_notes, activation=\"softmax\")(x)\n",
        "duration_output=Dense(n_durations, activation=\"softmax\")(x)"
      ],
      "execution_count": 10,
      "outputs": []
    },
    {
      "cell_type": "code",
      "metadata": {
        "id": "8i5Xpj5oZD6S"
      },
      "source": [
        "model=Model([note_input, duration_input], [note_output, duration_output])\n",
        "att_model=Model([note_input, duration_input], alpha)"
      ],
      "execution_count": 11,
      "outputs": []
    },
    {
      "cell_type": "code",
      "metadata": {
        "colab": {
          "base_uri": "https://localhost:8080/"
        },
        "id": "pATflnW5QeU5",
        "outputId": "7ade2a25-bbdf-484a-a35a-bb878fbc0b0d"
      },
      "source": [
        "model.summary()"
      ],
      "execution_count": 12,
      "outputs": [
        {
          "output_type": "stream",
          "name": "stdout",
          "text": [
            "Model: \"model\"\n",
            "__________________________________________________________________________________________________\n",
            "Layer (type)                    Output Shape         Param #     Connected to                     \n",
            "==================================================================================================\n",
            "input_1 (InputLayer)            [(None, None)]       0                                            \n",
            "__________________________________________________________________________________________________\n",
            "input_2 (InputLayer)            [(None, None)]       0                                            \n",
            "__________________________________________________________________________________________________\n",
            "embedding (Embedding)           (None, None, 100)    46100       input_1[0][0]                    \n",
            "__________________________________________________________________________________________________\n",
            "embedding_1 (Embedding)         (None, None, 100)    1900        input_2[0][0]                    \n",
            "__________________________________________________________________________________________________\n",
            "concatenate (Concatenate)       (None, None, 200)    0           embedding[0][0]                  \n",
            "                                                                 embedding_1[0][0]                \n",
            "__________________________________________________________________________________________________\n",
            "lstm (LSTM)                     (None, None, 256)    467968      concatenate[0][0]                \n",
            "__________________________________________________________________________________________________\n",
            "dropout (Dropout)               (None, None, 256)    0           lstm[0][0]                       \n",
            "__________________________________________________________________________________________________\n",
            "lstm_1 (LSTM)                   (None, None, 256)    525312      dropout[0][0]                    \n",
            "__________________________________________________________________________________________________\n",
            "dropout_1 (Dropout)             (None, None, 256)    0           lstm_1[0][0]                     \n",
            "__________________________________________________________________________________________________\n",
            "dense (Dense)                   (None, None, 1)      257         dropout_1[0][0]                  \n",
            "__________________________________________________________________________________________________\n",
            "reshape (Reshape)               (None, None)         0           dense[0][0]                      \n",
            "__________________________________________________________________________________________________\n",
            "activation (Activation)         (None, None)         0           reshape[0][0]                    \n",
            "__________________________________________________________________________________________________\n",
            "repeat_vector (RepeatVector)    (None, 256, None)    0           activation[0][0]                 \n",
            "__________________________________________________________________________________________________\n",
            "permute (Permute)               (None, None, 256)    0           repeat_vector[0][0]              \n",
            "__________________________________________________________________________________________________\n",
            "multiply (Multiply)             (None, None, 256)    0           permute[0][0]                    \n",
            "                                                                 lstm_1[0][0]                     \n",
            "__________________________________________________________________________________________________\n",
            "lambda (Lambda)                 (None, 256)          0           multiply[0][0]                   \n",
            "__________________________________________________________________________________________________\n",
            "dense_1 (Dense)                 (None, 461)          118477      lambda[0][0]                     \n",
            "__________________________________________________________________________________________________\n",
            "dense_2 (Dense)                 (None, 19)           4883        lambda[0][0]                     \n",
            "==================================================================================================\n",
            "Total params: 1,164,897\n",
            "Trainable params: 1,164,897\n",
            "Non-trainable params: 0\n",
            "__________________________________________________________________________________________________\n"
          ]
        }
      ]
    },
    {
      "cell_type": "code",
      "metadata": {
        "colab": {
          "base_uri": "https://localhost:8080/"
        },
        "id": "AR-Es4iUQhD_",
        "outputId": "144bc62c-8f6e-44e9-8fa8-703e61610824"
      },
      "source": [
        "att_model.summary()"
      ],
      "execution_count": 13,
      "outputs": [
        {
          "output_type": "stream",
          "name": "stdout",
          "text": [
            "Model: \"model_1\"\n",
            "__________________________________________________________________________________________________\n",
            "Layer (type)                    Output Shape         Param #     Connected to                     \n",
            "==================================================================================================\n",
            "input_1 (InputLayer)            [(None, None)]       0                                            \n",
            "__________________________________________________________________________________________________\n",
            "input_2 (InputLayer)            [(None, None)]       0                                            \n",
            "__________________________________________________________________________________________________\n",
            "embedding (Embedding)           (None, None, 100)    46100       input_1[0][0]                    \n",
            "__________________________________________________________________________________________________\n",
            "embedding_1 (Embedding)         (None, None, 100)    1900        input_2[0][0]                    \n",
            "__________________________________________________________________________________________________\n",
            "concatenate (Concatenate)       (None, None, 200)    0           embedding[0][0]                  \n",
            "                                                                 embedding_1[0][0]                \n",
            "__________________________________________________________________________________________________\n",
            "lstm (LSTM)                     (None, None, 256)    467968      concatenate[0][0]                \n",
            "__________________________________________________________________________________________________\n",
            "dropout (Dropout)               (None, None, 256)    0           lstm[0][0]                       \n",
            "__________________________________________________________________________________________________\n",
            "lstm_1 (LSTM)                   (None, None, 256)    525312      dropout[0][0]                    \n",
            "__________________________________________________________________________________________________\n",
            "dropout_1 (Dropout)             (None, None, 256)    0           lstm_1[0][0]                     \n",
            "__________________________________________________________________________________________________\n",
            "dense (Dense)                   (None, None, 1)      257         dropout_1[0][0]                  \n",
            "__________________________________________________________________________________________________\n",
            "reshape (Reshape)               (None, None)         0           dense[0][0]                      \n",
            "__________________________________________________________________________________________________\n",
            "activation (Activation)         (None, None)         0           reshape[0][0]                    \n",
            "==================================================================================================\n",
            "Total params: 1,041,537\n",
            "Trainable params: 1,041,537\n",
            "Non-trainable params: 0\n",
            "__________________________________________________________________________________________________\n"
          ]
        }
      ]
    },
    {
      "cell_type": "code",
      "metadata": {
        "id": "eZJycyZPN8Va"
      },
      "source": [
        "opti=Adam()\n",
        "model.compile(loss=[\"categorical_crossentropy\", \"categorical_crossentropy\"], optimizer=opti)"
      ],
      "execution_count": 14,
      "outputs": []
    },
    {
      "cell_type": "code",
      "metadata": {
        "colab": {
          "base_uri": "https://localhost:8080/"
        },
        "id": "z86umlc0YDld",
        "outputId": "b2b15565-d669-41cf-c3c8-57a35b945642"
      },
      "source": [
        "durations_network_input[100]"
      ],
      "execution_count": 15,
      "outputs": [
        {
          "output_type": "execute_result",
          "data": {
            "text/plain": [
              "array([3, 3, 3, 3, 3, 3, 3, 3, 3, 3, 3, 8, 3, 3, 3, 3, 3, 3, 3, 3, 3, 3,\n",
              "       3, 3, 3, 3, 3, 3, 3, 3, 3, 3])"
            ]
          },
          "metadata": {},
          "execution_count": 15
        }
      ]
    },
    {
      "cell_type": "code",
      "metadata": {
        "colab": {
          "base_uri": "https://localhost:8080/"
        },
        "id": "4xiljxFVQNag",
        "outputId": "79084b54-84d4-416b-c4c4-101670faa20b"
      },
      "source": [
        "model.fit([notes_network_input, durations_network_input], [notes_network_output, durations_network_output],\\\n",
        "          epochs=10, batch_size=32, shuffle=True, validation_split = 0.2)\n",
        "model.save(\"/content/drive/MyDrive/MODELS/keras_lstm&att.h5\")"
      ],
      "execution_count": 16,
      "outputs": [
        {
          "output_type": "stream",
          "name": "stdout",
          "text": [
            "Epoch 1/10\n",
            "692/692 [==============================] - 26s 32ms/step - loss: 4.5773 - dense_1_loss: 3.7202 - dense_2_loss: 0.8571 - val_loss: 3.9063 - val_dense_1_loss: 3.2655 - val_dense_2_loss: 0.6408\n",
            "Epoch 2/10\n",
            "692/692 [==============================] - 20s 29ms/step - loss: 4.0769 - dense_1_loss: 3.3931 - dense_2_loss: 0.6838 - val_loss: 3.7609 - val_dense_1_loss: 3.1574 - val_dense_2_loss: 0.6035\n",
            "Epoch 3/10\n",
            "692/692 [==============================] - 20s 29ms/step - loss: 3.8802 - dense_1_loss: 3.2496 - dense_2_loss: 0.6306 - val_loss: 3.6596 - val_dense_1_loss: 3.0963 - val_dense_2_loss: 0.5633\n",
            "Epoch 4/10\n",
            "692/692 [==============================] - 20s 29ms/step - loss: 3.7028 - dense_1_loss: 3.1051 - dense_2_loss: 0.5977 - val_loss: 3.7042 - val_dense_1_loss: 3.1517 - val_dense_2_loss: 0.5525\n",
            "Epoch 5/10\n",
            "692/692 [==============================] - 20s 28ms/step - loss: 3.5429 - dense_1_loss: 2.9778 - dense_2_loss: 0.5651 - val_loss: 3.6281 - val_dense_1_loss: 3.0739 - val_dense_2_loss: 0.5542\n",
            "Epoch 6/10\n",
            "692/692 [==============================] - 20s 29ms/step - loss: 3.3765 - dense_1_loss: 2.8463 - dense_2_loss: 0.5301 - val_loss: 3.6965 - val_dense_1_loss: 3.1042 - val_dense_2_loss: 0.5923\n",
            "Epoch 7/10\n",
            "692/692 [==============================] - 20s 29ms/step - loss: 3.2199 - dense_1_loss: 2.7174 - dense_2_loss: 0.5025 - val_loss: 3.7006 - val_dense_1_loss: 3.1136 - val_dense_2_loss: 0.5869\n",
            "Epoch 8/10\n",
            "692/692 [==============================] - 20s 29ms/step - loss: 3.0510 - dense_1_loss: 2.5842 - dense_2_loss: 0.4668 - val_loss: 3.7524 - val_dense_1_loss: 3.1769 - val_dense_2_loss: 0.5755\n",
            "Epoch 9/10\n",
            "692/692 [==============================] - 20s 29ms/step - loss: 2.8925 - dense_1_loss: 2.4604 - dense_2_loss: 0.4321 - val_loss: 3.7858 - val_dense_1_loss: 3.2003 - val_dense_2_loss: 0.5855\n",
            "Epoch 10/10\n",
            "692/692 [==============================] - 20s 29ms/step - loss: 2.7326 - dense_1_loss: 2.3301 - dense_2_loss: 0.4025 - val_loss: 3.9303 - val_dense_1_loss: 3.2745 - val_dense_2_loss: 0.6558\n"
          ]
        },
        {
          "output_type": "stream",
          "name": "stderr",
          "text": [
            "/usr/local/lib/python3.7/dist-packages/keras/utils/generic_utils.py:497: CustomMaskWarning: Custom mask layers require a config and must override get_config. When loading, the custom mask layer must be passed to the custom_objects argument.\n",
            "  category=CustomMaskWarning)\n"
          ]
        }
      ]
    },
    {
      "cell_type": "code",
      "metadata": {
        "colab": {
          "base_uri": "https://localhost:8080/"
        },
        "id": "KGpnZrZznhiH",
        "outputId": "75dd540a-7a01-47dc-bcb2-c2994dbb5967"
      },
      "source": [
        "model.save(\"/content/drive/MyDrive/MODELS/keras_lstm&att.h5\")"
      ],
      "execution_count": 17,
      "outputs": [
        {
          "output_type": "stream",
          "name": "stderr",
          "text": [
            "/usr/local/lib/python3.7/dist-packages/keras/utils/generic_utils.py:497: CustomMaskWarning: Custom mask layers require a config and must override get_config. When loading, the custom mask layer must be passed to the custom_objects argument.\n",
            "  category=CustomMaskWarning)\n"
          ]
        }
      ]
    },
    {
      "cell_type": "code",
      "metadata": {
        "id": "xvgFJ0uS41E9"
      },
      "source": [
        "def sample_with_temp(preds, temperature):\n",
        "\n",
        "    if temperature == 0:\n",
        "        return np.argmax(preds)\n",
        "    else:\n",
        "        preds = np.log(preds) / temperature\n",
        "        exp_preds = np.exp(preds)\n",
        "        preds = exp_preds / np.sum(exp_preds)\n",
        "        return np.random.choice(len(preds), p=preds)"
      ],
      "execution_count": 18,
      "outputs": []
    },
    {
      "cell_type": "code",
      "metadata": {
        "id": "p5uKItVPE1ud"
      },
      "source": [
        "how_to_start=[\"D3\", 0.75]\n",
        "temperature=0.2\n",
        "\n",
        "notes_input=[\"START\"]*(seq_len-1)+[how_to_start[0]]\n",
        "durations_input=[0]*(seq_len-1)+[how_to_start[1]]\n",
        "new_notes=[note2num_dic[how_to_start[0]]]\n",
        "new_durations=[duration2num_dic[how_to_start[1]]]\n",
        "\n",
        "notes_array=np.array([[note2num_dic[note_i] for note_i in notes_input]])\n",
        "durations_array=np.array([[duration2num_dic[duration_i] for duration_i in durations_input]])\n",
        "\n",
        "song_len=1\n",
        "new_note=None\n",
        "while new_note!=note2num_dic[\"END\"] and song_len<200:\n",
        "    note_pred, duration_pred=model.predict([notes_array, durations_array])\n",
        "    new_note=sample_with_temp(note_pred[0], temperature)\n",
        "    new_duration=sample_with_temp(duration_pred[0], temperature)\n",
        "    notes_array=np.expand_dims(np.append(notes_array[0, 1:], new_note), 0)\n",
        "    durations_array=np.expand_dims(np.append(durations_array[0, 1:], new_duration), 0)\n",
        "\n",
        "    new_notes.append(new_note)\n",
        "    new_durations.append(new_duration)\n",
        "    song_len+=1"
      ],
      "execution_count": 19,
      "outputs": []
    },
    {
      "cell_type": "code",
      "metadata": {
        "colab": {
          "base_uri": "https://localhost:8080/"
        },
        "id": "5yJss-EQ5uAr",
        "outputId": "56878e88-88fc-4b55-e244-fa9ec5ef3a0f"
      },
      "source": [
        "note_pred.shape"
      ],
      "execution_count": 20,
      "outputs": [
        {
          "output_type": "execute_result",
          "data": {
            "text/plain": [
              "(1, 461)"
            ]
          },
          "metadata": {},
          "execution_count": 20
        }
      ]
    },
    {
      "cell_type": "code",
      "metadata": {
        "colab": {
          "base_uri": "https://localhost:8080/"
        },
        "id": "65lsObntmYZb",
        "outputId": "7050e204-0c25-4ab3-fd93-4ef370419d86"
      },
      "source": [
        "len(new_notes)"
      ],
      "execution_count": 21,
      "outputs": [
        {
          "output_type": "execute_result",
          "data": {
            "text/plain": [
              "200"
            ]
          },
          "metadata": {},
          "execution_count": 21
        }
      ]
    },
    {
      "cell_type": "code",
      "metadata": {
        "colab": {
          "base_uri": "https://localhost:8080/"
        },
        "id": "MSBUUgdonAVo",
        "outputId": "daa0acab-a398-4224-e802-66a88ac6f993"
      },
      "source": [
        "new_notes"
      ],
      "execution_count": 22,
      "outputs": [
        {
          "output_type": "execute_result",
          "data": {
            "text/plain": [
              "[206,\n",
              " 356,\n",
              " 261,\n",
              " 206,\n",
              " 206,\n",
              " 284,\n",
              " 445,\n",
              " 445,\n",
              " 72,\n",
              " 72,\n",
              " 72,\n",
              " 72,\n",
              " 72,\n",
              " 72,\n",
              " 72,\n",
              " 72,\n",
              " 356,\n",
              " 356,\n",
              " 356,\n",
              " 356,\n",
              " 388,\n",
              " 388,\n",
              " 445,\n",
              " 72,\n",
              " 72,\n",
              " 445,\n",
              " 445,\n",
              " 445,\n",
              " 356,\n",
              " 445,\n",
              " 445,\n",
              " 445,\n",
              " 72,\n",
              " 72,\n",
              " 72,\n",
              " 445,\n",
              " 356,\n",
              " 445,\n",
              " 388,\n",
              " 356,\n",
              " 356,\n",
              " 261,\n",
              " 356,\n",
              " 356,\n",
              " 261,\n",
              " 261,\n",
              " 356,\n",
              " 206,\n",
              " 261,\n",
              " 206,\n",
              " 206,\n",
              " 54,\n",
              " 161,\n",
              " 161,\n",
              " 161,\n",
              " 161,\n",
              " 54,\n",
              " 368,\n",
              " 54,\n",
              " 206,\n",
              " 54,\n",
              " 54,\n",
              " 368,\n",
              " 161,\n",
              " 368,\n",
              " 368,\n",
              " 356,\n",
              " 356,\n",
              " 356,\n",
              " 356,\n",
              " 161,\n",
              " 401,\n",
              " 340,\n",
              " 356,\n",
              " 445,\n",
              " 445,\n",
              " 72,\n",
              " 72,\n",
              " 72,\n",
              " 72,\n",
              " 72,\n",
              " 72,\n",
              " 72,\n",
              " 72,\n",
              " 72,\n",
              " 72,\n",
              " 72,\n",
              " 72,\n",
              " 72,\n",
              " 72,\n",
              " 72,\n",
              " 72,\n",
              " 72,\n",
              " 72,\n",
              " 72,\n",
              " 72,\n",
              " 72,\n",
              " 72,\n",
              " 72,\n",
              " 72,\n",
              " 72,\n",
              " 72,\n",
              " 72,\n",
              " 72,\n",
              " 72,\n",
              " 72,\n",
              " 445,\n",
              " 445,\n",
              " 445,\n",
              " 445,\n",
              " 445,\n",
              " 72,\n",
              " 388,\n",
              " 445,\n",
              " 388,\n",
              " 445,\n",
              " 72,\n",
              " 388,\n",
              " 445,\n",
              " 445,\n",
              " 388,\n",
              " 356,\n",
              " 388,\n",
              " 388,\n",
              " 356,\n",
              " 356,\n",
              " 388,\n",
              " 356,\n",
              " 356,\n",
              " 356,\n",
              " 356,\n",
              " 356,\n",
              " 261,\n",
              " 206,\n",
              " 161,\n",
              " 161,\n",
              " 161,\n",
              " 161,\n",
              " 161,\n",
              " 161,\n",
              " 161,\n",
              " 368,\n",
              " 368,\n",
              " 368,\n",
              " 368,\n",
              " 401,\n",
              " 368,\n",
              " 368,\n",
              " 368,\n",
              " 368,\n",
              " 368,\n",
              " 368,\n",
              " 368,\n",
              " 401,\n",
              " 368,\n",
              " 368,\n",
              " 401,\n",
              " 368,\n",
              " 340,\n",
              " 368,\n",
              " 401,\n",
              " 368,\n",
              " 78,\n",
              " 261,\n",
              " 356,\n",
              " 445,\n",
              " 356,\n",
              " 356,\n",
              " 356,\n",
              " 356,\n",
              " 261,\n",
              " 261,\n",
              " 388,\n",
              " 388,\n",
              " 356,\n",
              " 356,\n",
              " 445,\n",
              " 445,\n",
              " 356,\n",
              " 445,\n",
              " 445,\n",
              " 72,\n",
              " 72,\n",
              " 72,\n",
              " 72,\n",
              " 72,\n",
              " 72,\n",
              " 72,\n",
              " 72,\n",
              " 72,\n",
              " 72,\n",
              " 72,\n",
              " 72,\n",
              " 72,\n",
              " 72,\n",
              " 72,\n",
              " 72,\n",
              " 72,\n",
              " 72,\n",
              " 72]"
            ]
          },
          "metadata": {},
          "execution_count": 22
        }
      ]
    },
    {
      "cell_type": "code",
      "metadata": {
        "id": "Dr94qSAbed7t"
      },
      "source": [
        "notes_output=[num2note_dic[note_i] for note_i in new_notes]\n",
        "durations_output=[num2duration_dic[duration_i] for duration_i in new_durations]"
      ],
      "execution_count": 23,
      "outputs": []
    },
    {
      "cell_type": "code",
      "metadata": {
        "id": "HfBSWFHNzpo6"
      },
      "source": [
        "import time\n",
        "import os"
      ],
      "execution_count": 24,
      "outputs": []
    },
    {
      "cell_type": "code",
      "metadata": {
        "colab": {
          "base_uri": "https://localhost:8080/",
          "height": 35
        },
        "id": "qSEbxxqvySAY",
        "outputId": "d61acf03-eac0-44e8-be29-7da96e2a3de4"
      },
      "source": [
        "midi_stream = stream.Stream()\n",
        "\n",
        "# create note and chord objects based on the values generated by the model\n",
        "for note_i, duration_i in zip(notes_output, durations_output):\n",
        "\n",
        "    # pattern is a chord\n",
        "    if ('.' in note_i):\n",
        "        notes_in_chord = note_i.split('.')\n",
        "        chord_notes = []\n",
        "        for current_note in notes_in_chord:\n",
        "            new_note = note.Note(current_note)\n",
        "            new_note.duration = duration.Duration(duration_i)\n",
        "            new_note.storedInstrument = instrument.Violoncello()\n",
        "            chord_notes.append(new_note)\n",
        "        new_chord = chord.Chord(chord_notes)\n",
        "        midi_stream.append(new_chord)\n",
        "    elif note_i == 'rest':\n",
        "    # pattern is a rest\n",
        "        new_note = note.Rest()\n",
        "        new_note.duration = duration.Duration(duration_i)\n",
        "        new_note.storedInstrument = instrument.Violoncello()\n",
        "        midi_stream.append(new_note)\n",
        "    elif note_i != 'START':\n",
        "    # pattern is a note\n",
        "        new_note = note.Note(note_i)\n",
        "        new_note.duration = duration.Duration(duration_i)\n",
        "        new_note.storedInstrument = instrument.Violoncello()\n",
        "        midi_stream.append(new_note)\n",
        "\n",
        "\n",
        "\n",
        "midi_stream = midi_stream.chordify()\n",
        "timestr = time.strftime(\"%Y%m%d-%H%M%S\")\n",
        "output_folder=\"/content/drive/MyDrive/MIDI/\"\n",
        "midi_stream.write('midi', fp=os.path.join(output_folder, 'output-' + timestr + '.mid'))"
      ],
      "execution_count": 25,
      "outputs": [
        {
          "output_type": "execute_result",
          "data": {
            "application/vnd.google.colaboratory.intrinsic+json": {
              "type": "string"
            },
            "text/plain": [
              "'/content/drive/MyDrive/MIDI/output-20211018-141402.mid'"
            ]
          },
          "metadata": {},
          "execution_count": 25
        }
      ]
    },
    {
      "cell_type": "code",
      "metadata": {
        "id": "tS574ey1b_jh"
      },
      "source": [
        "# how_to_start=[\"D3\", 0.75]\n",
        "# notes_input=[\"START\"]*(seq_len-1)+[how_to_start[0]]\n",
        "# durations_input=[0]*(seq_len-1)+[how_to_start[1]]\n",
        "# new_notes=[note2num_dic[how_to_start[0]]]\n",
        "# new_durations=[duration2num_dic[how_to_start[1]]]\n",
        "\n",
        "# notes_array=np.array([[note2num_dic[note_i] for note_i in notes_input]])\n",
        "# durations_array=np.array([[duration2num_dic[duration_i] for duration_i in durations_input]])\n",
        "# new_note, new_duration=model.predict([notes_array, durations_array])\n",
        "# new_note=np.argmax(new_note)\n",
        "# new_duration=np.argmax(new_duration)"
      ],
      "execution_count": 26,
      "outputs": []
    }
  ]
}