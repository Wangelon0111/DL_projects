{
  "nbformat": 4,
  "nbformat_minor": 0,
  "metadata": {
    "kernelspec": {
      "language": "python",
      "display_name": "Python 3",
      "name": "python3"
    },
    "language_info": {
      "name": "python",
      "version": "3.7.10",
      "mimetype": "text/x-python",
      "codemirror_mode": {
        "name": "ipython",
        "version": 3
      },
      "pygments_lexer": "ipython3",
      "nbconvert_exporter": "python",
      "file_extension": ".py"
    },
    "colab": {
      "name": "pytorch_cnn_mnist.ipynb",
      "provenance": []
    },
    "accelerator": "GPU",
    "widgets": {
      "application/vnd.jupyter.widget-state+json": {
        "a297dfee944e4dd784b0b99f5bd23639": {
          "model_module": "@jupyter-widgets/controls",
          "model_name": "HBoxModel",
          "model_module_version": "1.5.0",
          "state": {
            "_view_name": "HBoxView",
            "_dom_classes": [],
            "_model_name": "HBoxModel",
            "_view_module": "@jupyter-widgets/controls",
            "_model_module_version": "1.5.0",
            "_view_count": null,
            "_view_module_version": "1.5.0",
            "box_style": "",
            "layout": "IPY_MODEL_1936d44da7b040488fa8f72171e6689d",
            "_model_module": "@jupyter-widgets/controls",
            "children": [
              "IPY_MODEL_dff35ed9c2ae4026af702bfae792a986",
              "IPY_MODEL_7558a4963190416ea9f90ce71df29aa0",
              "IPY_MODEL_1958b875785645859e9ba9a4cf4a667f"
            ]
          }
        },
        "1936d44da7b040488fa8f72171e6689d": {
          "model_module": "@jupyter-widgets/base",
          "model_name": "LayoutModel",
          "model_module_version": "1.2.0",
          "state": {
            "_view_name": "LayoutView",
            "grid_template_rows": null,
            "right": null,
            "justify_content": null,
            "_view_module": "@jupyter-widgets/base",
            "overflow": null,
            "_model_module_version": "1.2.0",
            "_view_count": null,
            "flex_flow": null,
            "width": null,
            "min_width": null,
            "border": null,
            "align_items": null,
            "bottom": null,
            "_model_module": "@jupyter-widgets/base",
            "top": null,
            "grid_column": null,
            "overflow_y": null,
            "overflow_x": null,
            "grid_auto_flow": null,
            "grid_area": null,
            "grid_template_columns": null,
            "flex": null,
            "_model_name": "LayoutModel",
            "justify_items": null,
            "grid_row": null,
            "max_height": null,
            "align_content": null,
            "visibility": null,
            "align_self": null,
            "height": null,
            "min_height": null,
            "padding": null,
            "grid_auto_rows": null,
            "grid_gap": null,
            "max_width": null,
            "order": null,
            "_view_module_version": "1.2.0",
            "grid_template_areas": null,
            "object_position": null,
            "object_fit": null,
            "grid_auto_columns": null,
            "margin": null,
            "display": null,
            "left": null
          }
        },
        "dff35ed9c2ae4026af702bfae792a986": {
          "model_module": "@jupyter-widgets/controls",
          "model_name": "HTMLModel",
          "model_module_version": "1.5.0",
          "state": {
            "_view_name": "HTMLView",
            "style": "IPY_MODEL_9b3c8a196e684404878a6e772690cea7",
            "_dom_classes": [],
            "description": "",
            "_model_name": "HTMLModel",
            "placeholder": "​",
            "_view_module": "@jupyter-widgets/controls",
            "_model_module_version": "1.5.0",
            "value": "",
            "_view_count": null,
            "_view_module_version": "1.5.0",
            "description_tooltip": null,
            "_model_module": "@jupyter-widgets/controls",
            "layout": "IPY_MODEL_a24316cf33894cc1b06b28e0d8b2ee6a"
          }
        },
        "7558a4963190416ea9f90ce71df29aa0": {
          "model_module": "@jupyter-widgets/controls",
          "model_name": "FloatProgressModel",
          "model_module_version": "1.5.0",
          "state": {
            "_view_name": "ProgressView",
            "style": "IPY_MODEL_3e947a75a4fb4dedacf07f6c815f9536",
            "_dom_classes": [],
            "description": "",
            "_model_name": "FloatProgressModel",
            "bar_style": "success",
            "max": 9912422,
            "_view_module": "@jupyter-widgets/controls",
            "_model_module_version": "1.5.0",
            "value": 9912422,
            "_view_count": null,
            "_view_module_version": "1.5.0",
            "orientation": "horizontal",
            "min": 0,
            "description_tooltip": null,
            "_model_module": "@jupyter-widgets/controls",
            "layout": "IPY_MODEL_8662d4556bf24ce3b59b0006e846f8b9"
          }
        },
        "1958b875785645859e9ba9a4cf4a667f": {
          "model_module": "@jupyter-widgets/controls",
          "model_name": "HTMLModel",
          "model_module_version": "1.5.0",
          "state": {
            "_view_name": "HTMLView",
            "style": "IPY_MODEL_c84837617b3f4532843f12ccfafc67ab",
            "_dom_classes": [],
            "description": "",
            "_model_name": "HTMLModel",
            "placeholder": "​",
            "_view_module": "@jupyter-widgets/controls",
            "_model_module_version": "1.5.0",
            "value": " 9913344/? [04:50&lt;00:00, 33863.59it/s]",
            "_view_count": null,
            "_view_module_version": "1.5.0",
            "description_tooltip": null,
            "_model_module": "@jupyter-widgets/controls",
            "layout": "IPY_MODEL_3e2f2bfd18404e05bd63f36ad43f7001"
          }
        },
        "9b3c8a196e684404878a6e772690cea7": {
          "model_module": "@jupyter-widgets/controls",
          "model_name": "DescriptionStyleModel",
          "model_module_version": "1.5.0",
          "state": {
            "_view_name": "StyleView",
            "_model_name": "DescriptionStyleModel",
            "description_width": "",
            "_view_module": "@jupyter-widgets/base",
            "_model_module_version": "1.5.0",
            "_view_count": null,
            "_view_module_version": "1.2.0",
            "_model_module": "@jupyter-widgets/controls"
          }
        },
        "a24316cf33894cc1b06b28e0d8b2ee6a": {
          "model_module": "@jupyter-widgets/base",
          "model_name": "LayoutModel",
          "model_module_version": "1.2.0",
          "state": {
            "_view_name": "LayoutView",
            "grid_template_rows": null,
            "right": null,
            "justify_content": null,
            "_view_module": "@jupyter-widgets/base",
            "overflow": null,
            "_model_module_version": "1.2.0",
            "_view_count": null,
            "flex_flow": null,
            "width": null,
            "min_width": null,
            "border": null,
            "align_items": null,
            "bottom": null,
            "_model_module": "@jupyter-widgets/base",
            "top": null,
            "grid_column": null,
            "overflow_y": null,
            "overflow_x": null,
            "grid_auto_flow": null,
            "grid_area": null,
            "grid_template_columns": null,
            "flex": null,
            "_model_name": "LayoutModel",
            "justify_items": null,
            "grid_row": null,
            "max_height": null,
            "align_content": null,
            "visibility": null,
            "align_self": null,
            "height": null,
            "min_height": null,
            "padding": null,
            "grid_auto_rows": null,
            "grid_gap": null,
            "max_width": null,
            "order": null,
            "_view_module_version": "1.2.0",
            "grid_template_areas": null,
            "object_position": null,
            "object_fit": null,
            "grid_auto_columns": null,
            "margin": null,
            "display": null,
            "left": null
          }
        },
        "3e947a75a4fb4dedacf07f6c815f9536": {
          "model_module": "@jupyter-widgets/controls",
          "model_name": "ProgressStyleModel",
          "model_module_version": "1.5.0",
          "state": {
            "_view_name": "StyleView",
            "_model_name": "ProgressStyleModel",
            "description_width": "",
            "_view_module": "@jupyter-widgets/base",
            "_model_module_version": "1.5.0",
            "_view_count": null,
            "_view_module_version": "1.2.0",
            "bar_color": null,
            "_model_module": "@jupyter-widgets/controls"
          }
        },
        "8662d4556bf24ce3b59b0006e846f8b9": {
          "model_module": "@jupyter-widgets/base",
          "model_name": "LayoutModel",
          "model_module_version": "1.2.0",
          "state": {
            "_view_name": "LayoutView",
            "grid_template_rows": null,
            "right": null,
            "justify_content": null,
            "_view_module": "@jupyter-widgets/base",
            "overflow": null,
            "_model_module_version": "1.2.0",
            "_view_count": null,
            "flex_flow": null,
            "width": null,
            "min_width": null,
            "border": null,
            "align_items": null,
            "bottom": null,
            "_model_module": "@jupyter-widgets/base",
            "top": null,
            "grid_column": null,
            "overflow_y": null,
            "overflow_x": null,
            "grid_auto_flow": null,
            "grid_area": null,
            "grid_template_columns": null,
            "flex": null,
            "_model_name": "LayoutModel",
            "justify_items": null,
            "grid_row": null,
            "max_height": null,
            "align_content": null,
            "visibility": null,
            "align_self": null,
            "height": null,
            "min_height": null,
            "padding": null,
            "grid_auto_rows": null,
            "grid_gap": null,
            "max_width": null,
            "order": null,
            "_view_module_version": "1.2.0",
            "grid_template_areas": null,
            "object_position": null,
            "object_fit": null,
            "grid_auto_columns": null,
            "margin": null,
            "display": null,
            "left": null
          }
        },
        "c84837617b3f4532843f12ccfafc67ab": {
          "model_module": "@jupyter-widgets/controls",
          "model_name": "DescriptionStyleModel",
          "model_module_version": "1.5.0",
          "state": {
            "_view_name": "StyleView",
            "_model_name": "DescriptionStyleModel",
            "description_width": "",
            "_view_module": "@jupyter-widgets/base",
            "_model_module_version": "1.5.0",
            "_view_count": null,
            "_view_module_version": "1.2.0",
            "_model_module": "@jupyter-widgets/controls"
          }
        },
        "3e2f2bfd18404e05bd63f36ad43f7001": {
          "model_module": "@jupyter-widgets/base",
          "model_name": "LayoutModel",
          "model_module_version": "1.2.0",
          "state": {
            "_view_name": "LayoutView",
            "grid_template_rows": null,
            "right": null,
            "justify_content": null,
            "_view_module": "@jupyter-widgets/base",
            "overflow": null,
            "_model_module_version": "1.2.0",
            "_view_count": null,
            "flex_flow": null,
            "width": null,
            "min_width": null,
            "border": null,
            "align_items": null,
            "bottom": null,
            "_model_module": "@jupyter-widgets/base",
            "top": null,
            "grid_column": null,
            "overflow_y": null,
            "overflow_x": null,
            "grid_auto_flow": null,
            "grid_area": null,
            "grid_template_columns": null,
            "flex": null,
            "_model_name": "LayoutModel",
            "justify_items": null,
            "grid_row": null,
            "max_height": null,
            "align_content": null,
            "visibility": null,
            "align_self": null,
            "height": null,
            "min_height": null,
            "padding": null,
            "grid_auto_rows": null,
            "grid_gap": null,
            "max_width": null,
            "order": null,
            "_view_module_version": "1.2.0",
            "grid_template_areas": null,
            "object_position": null,
            "object_fit": null,
            "grid_auto_columns": null,
            "margin": null,
            "display": null,
            "left": null
          }
        },
        "e0afd914dd63441281299ebfe1535ca8": {
          "model_module": "@jupyter-widgets/controls",
          "model_name": "HBoxModel",
          "model_module_version": "1.5.0",
          "state": {
            "_view_name": "HBoxView",
            "_dom_classes": [],
            "_model_name": "HBoxModel",
            "_view_module": "@jupyter-widgets/controls",
            "_model_module_version": "1.5.0",
            "_view_count": null,
            "_view_module_version": "1.5.0",
            "box_style": "",
            "layout": "IPY_MODEL_e5eeb1952e914b6d800903af5a80a4cc",
            "_model_module": "@jupyter-widgets/controls",
            "children": [
              "IPY_MODEL_d16b46c08a0e48909c10cc24ec34ba6c",
              "IPY_MODEL_eaa31b80b6e04ab897b5f6eff508c696",
              "IPY_MODEL_96110fc253514e7aba4a2cc9bf19aab8"
            ]
          }
        },
        "e5eeb1952e914b6d800903af5a80a4cc": {
          "model_module": "@jupyter-widgets/base",
          "model_name": "LayoutModel",
          "model_module_version": "1.2.0",
          "state": {
            "_view_name": "LayoutView",
            "grid_template_rows": null,
            "right": null,
            "justify_content": null,
            "_view_module": "@jupyter-widgets/base",
            "overflow": null,
            "_model_module_version": "1.2.0",
            "_view_count": null,
            "flex_flow": null,
            "width": null,
            "min_width": null,
            "border": null,
            "align_items": null,
            "bottom": null,
            "_model_module": "@jupyter-widgets/base",
            "top": null,
            "grid_column": null,
            "overflow_y": null,
            "overflow_x": null,
            "grid_auto_flow": null,
            "grid_area": null,
            "grid_template_columns": null,
            "flex": null,
            "_model_name": "LayoutModel",
            "justify_items": null,
            "grid_row": null,
            "max_height": null,
            "align_content": null,
            "visibility": null,
            "align_self": null,
            "height": null,
            "min_height": null,
            "padding": null,
            "grid_auto_rows": null,
            "grid_gap": null,
            "max_width": null,
            "order": null,
            "_view_module_version": "1.2.0",
            "grid_template_areas": null,
            "object_position": null,
            "object_fit": null,
            "grid_auto_columns": null,
            "margin": null,
            "display": null,
            "left": null
          }
        },
        "d16b46c08a0e48909c10cc24ec34ba6c": {
          "model_module": "@jupyter-widgets/controls",
          "model_name": "HTMLModel",
          "model_module_version": "1.5.0",
          "state": {
            "_view_name": "HTMLView",
            "style": "IPY_MODEL_bfd6d0bd38f645069a0f7f90ef7fbf01",
            "_dom_classes": [],
            "description": "",
            "_model_name": "HTMLModel",
            "placeholder": "​",
            "_view_module": "@jupyter-widgets/controls",
            "_model_module_version": "1.5.0",
            "value": "",
            "_view_count": null,
            "_view_module_version": "1.5.0",
            "description_tooltip": null,
            "_model_module": "@jupyter-widgets/controls",
            "layout": "IPY_MODEL_aae8cade7ffe4b94b2e5ade0e803a357"
          }
        },
        "eaa31b80b6e04ab897b5f6eff508c696": {
          "model_module": "@jupyter-widgets/controls",
          "model_name": "FloatProgressModel",
          "model_module_version": "1.5.0",
          "state": {
            "_view_name": "ProgressView",
            "style": "IPY_MODEL_c817e447ef1f4e7397e32d0e97186ab6",
            "_dom_classes": [],
            "description": "",
            "_model_name": "FloatProgressModel",
            "bar_style": "success",
            "max": 28881,
            "_view_module": "@jupyter-widgets/controls",
            "_model_module_version": "1.5.0",
            "value": 28881,
            "_view_count": null,
            "_view_module_version": "1.5.0",
            "orientation": "horizontal",
            "min": 0,
            "description_tooltip": null,
            "_model_module": "@jupyter-widgets/controls",
            "layout": "IPY_MODEL_dc26ff0ebe95484ead2b25e625fddc5a"
          }
        },
        "96110fc253514e7aba4a2cc9bf19aab8": {
          "model_module": "@jupyter-widgets/controls",
          "model_name": "HTMLModel",
          "model_module_version": "1.5.0",
          "state": {
            "_view_name": "HTMLView",
            "style": "IPY_MODEL_8b1e283f8ae44002849bd120c87362b5",
            "_dom_classes": [],
            "description": "",
            "_model_name": "HTMLModel",
            "placeholder": "​",
            "_view_module": "@jupyter-widgets/controls",
            "_model_module_version": "1.5.0",
            "value": " 29696/? [00:00&lt;00:00, 451062.17it/s]",
            "_view_count": null,
            "_view_module_version": "1.5.0",
            "description_tooltip": null,
            "_model_module": "@jupyter-widgets/controls",
            "layout": "IPY_MODEL_5891e71c80f74d2e828ba3846aa8590b"
          }
        },
        "bfd6d0bd38f645069a0f7f90ef7fbf01": {
          "model_module": "@jupyter-widgets/controls",
          "model_name": "DescriptionStyleModel",
          "model_module_version": "1.5.0",
          "state": {
            "_view_name": "StyleView",
            "_model_name": "DescriptionStyleModel",
            "description_width": "",
            "_view_module": "@jupyter-widgets/base",
            "_model_module_version": "1.5.0",
            "_view_count": null,
            "_view_module_version": "1.2.0",
            "_model_module": "@jupyter-widgets/controls"
          }
        },
        "aae8cade7ffe4b94b2e5ade0e803a357": {
          "model_module": "@jupyter-widgets/base",
          "model_name": "LayoutModel",
          "model_module_version": "1.2.0",
          "state": {
            "_view_name": "LayoutView",
            "grid_template_rows": null,
            "right": null,
            "justify_content": null,
            "_view_module": "@jupyter-widgets/base",
            "overflow": null,
            "_model_module_version": "1.2.0",
            "_view_count": null,
            "flex_flow": null,
            "width": null,
            "min_width": null,
            "border": null,
            "align_items": null,
            "bottom": null,
            "_model_module": "@jupyter-widgets/base",
            "top": null,
            "grid_column": null,
            "overflow_y": null,
            "overflow_x": null,
            "grid_auto_flow": null,
            "grid_area": null,
            "grid_template_columns": null,
            "flex": null,
            "_model_name": "LayoutModel",
            "justify_items": null,
            "grid_row": null,
            "max_height": null,
            "align_content": null,
            "visibility": null,
            "align_self": null,
            "height": null,
            "min_height": null,
            "padding": null,
            "grid_auto_rows": null,
            "grid_gap": null,
            "max_width": null,
            "order": null,
            "_view_module_version": "1.2.0",
            "grid_template_areas": null,
            "object_position": null,
            "object_fit": null,
            "grid_auto_columns": null,
            "margin": null,
            "display": null,
            "left": null
          }
        },
        "c817e447ef1f4e7397e32d0e97186ab6": {
          "model_module": "@jupyter-widgets/controls",
          "model_name": "ProgressStyleModel",
          "model_module_version": "1.5.0",
          "state": {
            "_view_name": "StyleView",
            "_model_name": "ProgressStyleModel",
            "description_width": "",
            "_view_module": "@jupyter-widgets/base",
            "_model_module_version": "1.5.0",
            "_view_count": null,
            "_view_module_version": "1.2.0",
            "bar_color": null,
            "_model_module": "@jupyter-widgets/controls"
          }
        },
        "dc26ff0ebe95484ead2b25e625fddc5a": {
          "model_module": "@jupyter-widgets/base",
          "model_name": "LayoutModel",
          "model_module_version": "1.2.0",
          "state": {
            "_view_name": "LayoutView",
            "grid_template_rows": null,
            "right": null,
            "justify_content": null,
            "_view_module": "@jupyter-widgets/base",
            "overflow": null,
            "_model_module_version": "1.2.0",
            "_view_count": null,
            "flex_flow": null,
            "width": null,
            "min_width": null,
            "border": null,
            "align_items": null,
            "bottom": null,
            "_model_module": "@jupyter-widgets/base",
            "top": null,
            "grid_column": null,
            "overflow_y": null,
            "overflow_x": null,
            "grid_auto_flow": null,
            "grid_area": null,
            "grid_template_columns": null,
            "flex": null,
            "_model_name": "LayoutModel",
            "justify_items": null,
            "grid_row": null,
            "max_height": null,
            "align_content": null,
            "visibility": null,
            "align_self": null,
            "height": null,
            "min_height": null,
            "padding": null,
            "grid_auto_rows": null,
            "grid_gap": null,
            "max_width": null,
            "order": null,
            "_view_module_version": "1.2.0",
            "grid_template_areas": null,
            "object_position": null,
            "object_fit": null,
            "grid_auto_columns": null,
            "margin": null,
            "display": null,
            "left": null
          }
        },
        "8b1e283f8ae44002849bd120c87362b5": {
          "model_module": "@jupyter-widgets/controls",
          "model_name": "DescriptionStyleModel",
          "model_module_version": "1.5.0",
          "state": {
            "_view_name": "StyleView",
            "_model_name": "DescriptionStyleModel",
            "description_width": "",
            "_view_module": "@jupyter-widgets/base",
            "_model_module_version": "1.5.0",
            "_view_count": null,
            "_view_module_version": "1.2.0",
            "_model_module": "@jupyter-widgets/controls"
          }
        },
        "5891e71c80f74d2e828ba3846aa8590b": {
          "model_module": "@jupyter-widgets/base",
          "model_name": "LayoutModel",
          "model_module_version": "1.2.0",
          "state": {
            "_view_name": "LayoutView",
            "grid_template_rows": null,
            "right": null,
            "justify_content": null,
            "_view_module": "@jupyter-widgets/base",
            "overflow": null,
            "_model_module_version": "1.2.0",
            "_view_count": null,
            "flex_flow": null,
            "width": null,
            "min_width": null,
            "border": null,
            "align_items": null,
            "bottom": null,
            "_model_module": "@jupyter-widgets/base",
            "top": null,
            "grid_column": null,
            "overflow_y": null,
            "overflow_x": null,
            "grid_auto_flow": null,
            "grid_area": null,
            "grid_template_columns": null,
            "flex": null,
            "_model_name": "LayoutModel",
            "justify_items": null,
            "grid_row": null,
            "max_height": null,
            "align_content": null,
            "visibility": null,
            "align_self": null,
            "height": null,
            "min_height": null,
            "padding": null,
            "grid_auto_rows": null,
            "grid_gap": null,
            "max_width": null,
            "order": null,
            "_view_module_version": "1.2.0",
            "grid_template_areas": null,
            "object_position": null,
            "object_fit": null,
            "grid_auto_columns": null,
            "margin": null,
            "display": null,
            "left": null
          }
        },
        "a4c15832e1c7493eaee94c24d826705e": {
          "model_module": "@jupyter-widgets/controls",
          "model_name": "HBoxModel",
          "model_module_version": "1.5.0",
          "state": {
            "_view_name": "HBoxView",
            "_dom_classes": [],
            "_model_name": "HBoxModel",
            "_view_module": "@jupyter-widgets/controls",
            "_model_module_version": "1.5.0",
            "_view_count": null,
            "_view_module_version": "1.5.0",
            "box_style": "",
            "layout": "IPY_MODEL_272f39643c224160b1da599039da8e19",
            "_model_module": "@jupyter-widgets/controls",
            "children": [
              "IPY_MODEL_2829fa6e1f464fb698e2989127b69a6e",
              "IPY_MODEL_e22d3d89f4664863a4101f4574b5adba",
              "IPY_MODEL_7c646ed3c5fe44c89b0742d135c2ebc3"
            ]
          }
        },
        "272f39643c224160b1da599039da8e19": {
          "model_module": "@jupyter-widgets/base",
          "model_name": "LayoutModel",
          "model_module_version": "1.2.0",
          "state": {
            "_view_name": "LayoutView",
            "grid_template_rows": null,
            "right": null,
            "justify_content": null,
            "_view_module": "@jupyter-widgets/base",
            "overflow": null,
            "_model_module_version": "1.2.0",
            "_view_count": null,
            "flex_flow": null,
            "width": null,
            "min_width": null,
            "border": null,
            "align_items": null,
            "bottom": null,
            "_model_module": "@jupyter-widgets/base",
            "top": null,
            "grid_column": null,
            "overflow_y": null,
            "overflow_x": null,
            "grid_auto_flow": null,
            "grid_area": null,
            "grid_template_columns": null,
            "flex": null,
            "_model_name": "LayoutModel",
            "justify_items": null,
            "grid_row": null,
            "max_height": null,
            "align_content": null,
            "visibility": null,
            "align_self": null,
            "height": null,
            "min_height": null,
            "padding": null,
            "grid_auto_rows": null,
            "grid_gap": null,
            "max_width": null,
            "order": null,
            "_view_module_version": "1.2.0",
            "grid_template_areas": null,
            "object_position": null,
            "object_fit": null,
            "grid_auto_columns": null,
            "margin": null,
            "display": null,
            "left": null
          }
        },
        "2829fa6e1f464fb698e2989127b69a6e": {
          "model_module": "@jupyter-widgets/controls",
          "model_name": "HTMLModel",
          "model_module_version": "1.5.0",
          "state": {
            "_view_name": "HTMLView",
            "style": "IPY_MODEL_7b5ff5557e384a5c8e97e40d061d4459",
            "_dom_classes": [],
            "description": "",
            "_model_name": "HTMLModel",
            "placeholder": "​",
            "_view_module": "@jupyter-widgets/controls",
            "_model_module_version": "1.5.0",
            "value": "",
            "_view_count": null,
            "_view_module_version": "1.5.0",
            "description_tooltip": null,
            "_model_module": "@jupyter-widgets/controls",
            "layout": "IPY_MODEL_c958b7657cd94c8bb8871230a9bf5e61"
          }
        },
        "e22d3d89f4664863a4101f4574b5adba": {
          "model_module": "@jupyter-widgets/controls",
          "model_name": "FloatProgressModel",
          "model_module_version": "1.5.0",
          "state": {
            "_view_name": "ProgressView",
            "style": "IPY_MODEL_8b584a59b24f427b8511119b1a988ff3",
            "_dom_classes": [],
            "description": "",
            "_model_name": "FloatProgressModel",
            "bar_style": "success",
            "max": 1648877,
            "_view_module": "@jupyter-widgets/controls",
            "_model_module_version": "1.5.0",
            "value": 1648877,
            "_view_count": null,
            "_view_module_version": "1.5.0",
            "orientation": "horizontal",
            "min": 0,
            "description_tooltip": null,
            "_model_module": "@jupyter-widgets/controls",
            "layout": "IPY_MODEL_126ddac86a2d40eb95209364e9346a63"
          }
        },
        "7c646ed3c5fe44c89b0742d135c2ebc3": {
          "model_module": "@jupyter-widgets/controls",
          "model_name": "HTMLModel",
          "model_module_version": "1.5.0",
          "state": {
            "_view_name": "HTMLView",
            "style": "IPY_MODEL_9edcf12daf8142b99297fd72713b4edf",
            "_dom_classes": [],
            "description": "",
            "_model_name": "HTMLModel",
            "placeholder": "​",
            "_view_module": "@jupyter-widgets/controls",
            "_model_module_version": "1.5.0",
            "value": " 1649664/? [00:00&lt;00:00, 2036104.43it/s]",
            "_view_count": null,
            "_view_module_version": "1.5.0",
            "description_tooltip": null,
            "_model_module": "@jupyter-widgets/controls",
            "layout": "IPY_MODEL_b11ebe06906542dba8970fdf1406002d"
          }
        },
        "7b5ff5557e384a5c8e97e40d061d4459": {
          "model_module": "@jupyter-widgets/controls",
          "model_name": "DescriptionStyleModel",
          "model_module_version": "1.5.0",
          "state": {
            "_view_name": "StyleView",
            "_model_name": "DescriptionStyleModel",
            "description_width": "",
            "_view_module": "@jupyter-widgets/base",
            "_model_module_version": "1.5.0",
            "_view_count": null,
            "_view_module_version": "1.2.0",
            "_model_module": "@jupyter-widgets/controls"
          }
        },
        "c958b7657cd94c8bb8871230a9bf5e61": {
          "model_module": "@jupyter-widgets/base",
          "model_name": "LayoutModel",
          "model_module_version": "1.2.0",
          "state": {
            "_view_name": "LayoutView",
            "grid_template_rows": null,
            "right": null,
            "justify_content": null,
            "_view_module": "@jupyter-widgets/base",
            "overflow": null,
            "_model_module_version": "1.2.0",
            "_view_count": null,
            "flex_flow": null,
            "width": null,
            "min_width": null,
            "border": null,
            "align_items": null,
            "bottom": null,
            "_model_module": "@jupyter-widgets/base",
            "top": null,
            "grid_column": null,
            "overflow_y": null,
            "overflow_x": null,
            "grid_auto_flow": null,
            "grid_area": null,
            "grid_template_columns": null,
            "flex": null,
            "_model_name": "LayoutModel",
            "justify_items": null,
            "grid_row": null,
            "max_height": null,
            "align_content": null,
            "visibility": null,
            "align_self": null,
            "height": null,
            "min_height": null,
            "padding": null,
            "grid_auto_rows": null,
            "grid_gap": null,
            "max_width": null,
            "order": null,
            "_view_module_version": "1.2.0",
            "grid_template_areas": null,
            "object_position": null,
            "object_fit": null,
            "grid_auto_columns": null,
            "margin": null,
            "display": null,
            "left": null
          }
        },
        "8b584a59b24f427b8511119b1a988ff3": {
          "model_module": "@jupyter-widgets/controls",
          "model_name": "ProgressStyleModel",
          "model_module_version": "1.5.0",
          "state": {
            "_view_name": "StyleView",
            "_model_name": "ProgressStyleModel",
            "description_width": "",
            "_view_module": "@jupyter-widgets/base",
            "_model_module_version": "1.5.0",
            "_view_count": null,
            "_view_module_version": "1.2.0",
            "bar_color": null,
            "_model_module": "@jupyter-widgets/controls"
          }
        },
        "126ddac86a2d40eb95209364e9346a63": {
          "model_module": "@jupyter-widgets/base",
          "model_name": "LayoutModel",
          "model_module_version": "1.2.0",
          "state": {
            "_view_name": "LayoutView",
            "grid_template_rows": null,
            "right": null,
            "justify_content": null,
            "_view_module": "@jupyter-widgets/base",
            "overflow": null,
            "_model_module_version": "1.2.0",
            "_view_count": null,
            "flex_flow": null,
            "width": null,
            "min_width": null,
            "border": null,
            "align_items": null,
            "bottom": null,
            "_model_module": "@jupyter-widgets/base",
            "top": null,
            "grid_column": null,
            "overflow_y": null,
            "overflow_x": null,
            "grid_auto_flow": null,
            "grid_area": null,
            "grid_template_columns": null,
            "flex": null,
            "_model_name": "LayoutModel",
            "justify_items": null,
            "grid_row": null,
            "max_height": null,
            "align_content": null,
            "visibility": null,
            "align_self": null,
            "height": null,
            "min_height": null,
            "padding": null,
            "grid_auto_rows": null,
            "grid_gap": null,
            "max_width": null,
            "order": null,
            "_view_module_version": "1.2.0",
            "grid_template_areas": null,
            "object_position": null,
            "object_fit": null,
            "grid_auto_columns": null,
            "margin": null,
            "display": null,
            "left": null
          }
        },
        "9edcf12daf8142b99297fd72713b4edf": {
          "model_module": "@jupyter-widgets/controls",
          "model_name": "DescriptionStyleModel",
          "model_module_version": "1.5.0",
          "state": {
            "_view_name": "StyleView",
            "_model_name": "DescriptionStyleModel",
            "description_width": "",
            "_view_module": "@jupyter-widgets/base",
            "_model_module_version": "1.5.0",
            "_view_count": null,
            "_view_module_version": "1.2.0",
            "_model_module": "@jupyter-widgets/controls"
          }
        },
        "b11ebe06906542dba8970fdf1406002d": {
          "model_module": "@jupyter-widgets/base",
          "model_name": "LayoutModel",
          "model_module_version": "1.2.0",
          "state": {
            "_view_name": "LayoutView",
            "grid_template_rows": null,
            "right": null,
            "justify_content": null,
            "_view_module": "@jupyter-widgets/base",
            "overflow": null,
            "_model_module_version": "1.2.0",
            "_view_count": null,
            "flex_flow": null,
            "width": null,
            "min_width": null,
            "border": null,
            "align_items": null,
            "bottom": null,
            "_model_module": "@jupyter-widgets/base",
            "top": null,
            "grid_column": null,
            "overflow_y": null,
            "overflow_x": null,
            "grid_auto_flow": null,
            "grid_area": null,
            "grid_template_columns": null,
            "flex": null,
            "_model_name": "LayoutModel",
            "justify_items": null,
            "grid_row": null,
            "max_height": null,
            "align_content": null,
            "visibility": null,
            "align_self": null,
            "height": null,
            "min_height": null,
            "padding": null,
            "grid_auto_rows": null,
            "grid_gap": null,
            "max_width": null,
            "order": null,
            "_view_module_version": "1.2.0",
            "grid_template_areas": null,
            "object_position": null,
            "object_fit": null,
            "grid_auto_columns": null,
            "margin": null,
            "display": null,
            "left": null
          }
        },
        "f1daa080b15b492f88c636eb903e8a77": {
          "model_module": "@jupyter-widgets/controls",
          "model_name": "HBoxModel",
          "model_module_version": "1.5.0",
          "state": {
            "_view_name": "HBoxView",
            "_dom_classes": [],
            "_model_name": "HBoxModel",
            "_view_module": "@jupyter-widgets/controls",
            "_model_module_version": "1.5.0",
            "_view_count": null,
            "_view_module_version": "1.5.0",
            "box_style": "",
            "layout": "IPY_MODEL_87d8f7b5ea544d19b5f228f50946e418",
            "_model_module": "@jupyter-widgets/controls",
            "children": [
              "IPY_MODEL_1aaadd8d1fed496b866919d68abfc0c0",
              "IPY_MODEL_5cb97f48e1884e04b596025928e0312f",
              "IPY_MODEL_342c70d47ab04db8864c935d0d388ef7"
            ]
          }
        },
        "87d8f7b5ea544d19b5f228f50946e418": {
          "model_module": "@jupyter-widgets/base",
          "model_name": "LayoutModel",
          "model_module_version": "1.2.0",
          "state": {
            "_view_name": "LayoutView",
            "grid_template_rows": null,
            "right": null,
            "justify_content": null,
            "_view_module": "@jupyter-widgets/base",
            "overflow": null,
            "_model_module_version": "1.2.0",
            "_view_count": null,
            "flex_flow": null,
            "width": null,
            "min_width": null,
            "border": null,
            "align_items": null,
            "bottom": null,
            "_model_module": "@jupyter-widgets/base",
            "top": null,
            "grid_column": null,
            "overflow_y": null,
            "overflow_x": null,
            "grid_auto_flow": null,
            "grid_area": null,
            "grid_template_columns": null,
            "flex": null,
            "_model_name": "LayoutModel",
            "justify_items": null,
            "grid_row": null,
            "max_height": null,
            "align_content": null,
            "visibility": null,
            "align_self": null,
            "height": null,
            "min_height": null,
            "padding": null,
            "grid_auto_rows": null,
            "grid_gap": null,
            "max_width": null,
            "order": null,
            "_view_module_version": "1.2.0",
            "grid_template_areas": null,
            "object_position": null,
            "object_fit": null,
            "grid_auto_columns": null,
            "margin": null,
            "display": null,
            "left": null
          }
        },
        "1aaadd8d1fed496b866919d68abfc0c0": {
          "model_module": "@jupyter-widgets/controls",
          "model_name": "HTMLModel",
          "model_module_version": "1.5.0",
          "state": {
            "_view_name": "HTMLView",
            "style": "IPY_MODEL_767d87f9cde24ab591e6a1d5a84333b8",
            "_dom_classes": [],
            "description": "",
            "_model_name": "HTMLModel",
            "placeholder": "​",
            "_view_module": "@jupyter-widgets/controls",
            "_model_module_version": "1.5.0",
            "value": "",
            "_view_count": null,
            "_view_module_version": "1.5.0",
            "description_tooltip": null,
            "_model_module": "@jupyter-widgets/controls",
            "layout": "IPY_MODEL_e9f847953b02446da43dcb191424f1f8"
          }
        },
        "5cb97f48e1884e04b596025928e0312f": {
          "model_module": "@jupyter-widgets/controls",
          "model_name": "FloatProgressModel",
          "model_module_version": "1.5.0",
          "state": {
            "_view_name": "ProgressView",
            "style": "IPY_MODEL_bd62b4010b4d4ee8be378abac1aef1a6",
            "_dom_classes": [],
            "description": "",
            "_model_name": "FloatProgressModel",
            "bar_style": "success",
            "max": 4542,
            "_view_module": "@jupyter-widgets/controls",
            "_model_module_version": "1.5.0",
            "value": 4542,
            "_view_count": null,
            "_view_module_version": "1.5.0",
            "orientation": "horizontal",
            "min": 0,
            "description_tooltip": null,
            "_model_module": "@jupyter-widgets/controls",
            "layout": "IPY_MODEL_9f4f2e21e4e344d4a1ea870052f73776"
          }
        },
        "342c70d47ab04db8864c935d0d388ef7": {
          "model_module": "@jupyter-widgets/controls",
          "model_name": "HTMLModel",
          "model_module_version": "1.5.0",
          "state": {
            "_view_name": "HTMLView",
            "style": "IPY_MODEL_f90ceb825f29487289489059cc546fac",
            "_dom_classes": [],
            "description": "",
            "_model_name": "HTMLModel",
            "placeholder": "​",
            "_view_module": "@jupyter-widgets/controls",
            "_model_module_version": "1.5.0",
            "value": " 5120/? [00:00&lt;00:00, 146494.92it/s]",
            "_view_count": null,
            "_view_module_version": "1.5.0",
            "description_tooltip": null,
            "_model_module": "@jupyter-widgets/controls",
            "layout": "IPY_MODEL_4c945473421a49a5bb57ac6defeaa72e"
          }
        },
        "767d87f9cde24ab591e6a1d5a84333b8": {
          "model_module": "@jupyter-widgets/controls",
          "model_name": "DescriptionStyleModel",
          "model_module_version": "1.5.0",
          "state": {
            "_view_name": "StyleView",
            "_model_name": "DescriptionStyleModel",
            "description_width": "",
            "_view_module": "@jupyter-widgets/base",
            "_model_module_version": "1.5.0",
            "_view_count": null,
            "_view_module_version": "1.2.0",
            "_model_module": "@jupyter-widgets/controls"
          }
        },
        "e9f847953b02446da43dcb191424f1f8": {
          "model_module": "@jupyter-widgets/base",
          "model_name": "LayoutModel",
          "model_module_version": "1.2.0",
          "state": {
            "_view_name": "LayoutView",
            "grid_template_rows": null,
            "right": null,
            "justify_content": null,
            "_view_module": "@jupyter-widgets/base",
            "overflow": null,
            "_model_module_version": "1.2.0",
            "_view_count": null,
            "flex_flow": null,
            "width": null,
            "min_width": null,
            "border": null,
            "align_items": null,
            "bottom": null,
            "_model_module": "@jupyter-widgets/base",
            "top": null,
            "grid_column": null,
            "overflow_y": null,
            "overflow_x": null,
            "grid_auto_flow": null,
            "grid_area": null,
            "grid_template_columns": null,
            "flex": null,
            "_model_name": "LayoutModel",
            "justify_items": null,
            "grid_row": null,
            "max_height": null,
            "align_content": null,
            "visibility": null,
            "align_self": null,
            "height": null,
            "min_height": null,
            "padding": null,
            "grid_auto_rows": null,
            "grid_gap": null,
            "max_width": null,
            "order": null,
            "_view_module_version": "1.2.0",
            "grid_template_areas": null,
            "object_position": null,
            "object_fit": null,
            "grid_auto_columns": null,
            "margin": null,
            "display": null,
            "left": null
          }
        },
        "bd62b4010b4d4ee8be378abac1aef1a6": {
          "model_module": "@jupyter-widgets/controls",
          "model_name": "ProgressStyleModel",
          "model_module_version": "1.5.0",
          "state": {
            "_view_name": "StyleView",
            "_model_name": "ProgressStyleModel",
            "description_width": "",
            "_view_module": "@jupyter-widgets/base",
            "_model_module_version": "1.5.0",
            "_view_count": null,
            "_view_module_version": "1.2.0",
            "bar_color": null,
            "_model_module": "@jupyter-widgets/controls"
          }
        },
        "9f4f2e21e4e344d4a1ea870052f73776": {
          "model_module": "@jupyter-widgets/base",
          "model_name": "LayoutModel",
          "model_module_version": "1.2.0",
          "state": {
            "_view_name": "LayoutView",
            "grid_template_rows": null,
            "right": null,
            "justify_content": null,
            "_view_module": "@jupyter-widgets/base",
            "overflow": null,
            "_model_module_version": "1.2.0",
            "_view_count": null,
            "flex_flow": null,
            "width": null,
            "min_width": null,
            "border": null,
            "align_items": null,
            "bottom": null,
            "_model_module": "@jupyter-widgets/base",
            "top": null,
            "grid_column": null,
            "overflow_y": null,
            "overflow_x": null,
            "grid_auto_flow": null,
            "grid_area": null,
            "grid_template_columns": null,
            "flex": null,
            "_model_name": "LayoutModel",
            "justify_items": null,
            "grid_row": null,
            "max_height": null,
            "align_content": null,
            "visibility": null,
            "align_self": null,
            "height": null,
            "min_height": null,
            "padding": null,
            "grid_auto_rows": null,
            "grid_gap": null,
            "max_width": null,
            "order": null,
            "_view_module_version": "1.2.0",
            "grid_template_areas": null,
            "object_position": null,
            "object_fit": null,
            "grid_auto_columns": null,
            "margin": null,
            "display": null,
            "left": null
          }
        },
        "f90ceb825f29487289489059cc546fac": {
          "model_module": "@jupyter-widgets/controls",
          "model_name": "DescriptionStyleModel",
          "model_module_version": "1.5.0",
          "state": {
            "_view_name": "StyleView",
            "_model_name": "DescriptionStyleModel",
            "description_width": "",
            "_view_module": "@jupyter-widgets/base",
            "_model_module_version": "1.5.0",
            "_view_count": null,
            "_view_module_version": "1.2.0",
            "_model_module": "@jupyter-widgets/controls"
          }
        },
        "4c945473421a49a5bb57ac6defeaa72e": {
          "model_module": "@jupyter-widgets/base",
          "model_name": "LayoutModel",
          "model_module_version": "1.2.0",
          "state": {
            "_view_name": "LayoutView",
            "grid_template_rows": null,
            "right": null,
            "justify_content": null,
            "_view_module": "@jupyter-widgets/base",
            "overflow": null,
            "_model_module_version": "1.2.0",
            "_view_count": null,
            "flex_flow": null,
            "width": null,
            "min_width": null,
            "border": null,
            "align_items": null,
            "bottom": null,
            "_model_module": "@jupyter-widgets/base",
            "top": null,
            "grid_column": null,
            "overflow_y": null,
            "overflow_x": null,
            "grid_auto_flow": null,
            "grid_area": null,
            "grid_template_columns": null,
            "flex": null,
            "_model_name": "LayoutModel",
            "justify_items": null,
            "grid_row": null,
            "max_height": null,
            "align_content": null,
            "visibility": null,
            "align_self": null,
            "height": null,
            "min_height": null,
            "padding": null,
            "grid_auto_rows": null,
            "grid_gap": null,
            "max_width": null,
            "order": null,
            "_view_module_version": "1.2.0",
            "grid_template_areas": null,
            "object_position": null,
            "object_fit": null,
            "grid_auto_columns": null,
            "margin": null,
            "display": null,
            "left": null
          }
        }
      }
    }
  },
  "cells": [
    {
      "cell_type": "code",
      "metadata": {
        "execution": {
          "iopub.status.busy": "2021-08-13T07:17:08.574727Z",
          "iopub.execute_input": "2021-08-13T07:17:08.575140Z",
          "iopub.status.idle": "2021-08-13T07:17:08.579892Z",
          "shell.execute_reply.started": "2021-08-13T07:17:08.575103Z",
          "shell.execute_reply": "2021-08-13T07:17:08.578613Z"
        },
        "trusted": true,
        "id": "bmD2HmdZY3-X"
      },
      "source": [
        "import numpy as np \n",
        "import pandas as pd \n",
        "import matplotlib.pyplot as plt"
      ],
      "execution_count": null,
      "outputs": []
    },
    {
      "cell_type": "code",
      "metadata": {
        "execution": {
          "iopub.status.busy": "2021-08-12T12:36:57.338757Z",
          "iopub.execute_input": "2021-08-12T12:36:57.339147Z",
          "iopub.status.idle": "2021-08-12T12:36:57.688041Z",
          "shell.execute_reply.started": "2021-08-12T12:36:57.339105Z",
          "shell.execute_reply": "2021-08-12T12:36:57.687114Z"
        },
        "trusted": true,
        "id": "fKh4ZkqjY3-6"
      },
      "source": [
        "import torch\n",
        "import torch.optim as optim\n",
        "import torch.nn as nn\n",
        "import torch.nn.functional as F\n",
        "import torchvision"
      ],
      "execution_count": null,
      "outputs": []
    },
    {
      "cell_type": "code",
      "metadata": {
        "id": "74y5G2gxY3_K"
      },
      "source": [
        "transform = torchvision.transforms.Compose([torchvision.transforms.ToTensor(),\\\n",
        "                                        torchvision.transforms.Normalize((0.5,), (0.5,))])"
      ],
      "execution_count": null,
      "outputs": []
    },
    {
      "cell_type": "code",
      "metadata": {
        "id": "gYHDgGJz-HXo"
      },
      "source": [
        "batch_size=100\n",
        "learning_rate=0.02\n",
        "num_epochs=50"
      ],
      "execution_count": null,
      "outputs": []
    },
    {
      "cell_type": "code",
      "metadata": {
        "colab": {
          "base_uri": "https://localhost:8080/",
          "height": 693,
          "referenced_widgets": [
            "a297dfee944e4dd784b0b99f5bd23639",
            "1936d44da7b040488fa8f72171e6689d",
            "dff35ed9c2ae4026af702bfae792a986",
            "7558a4963190416ea9f90ce71df29aa0",
            "1958b875785645859e9ba9a4cf4a667f",
            "9b3c8a196e684404878a6e772690cea7",
            "a24316cf33894cc1b06b28e0d8b2ee6a",
            "3e947a75a4fb4dedacf07f6c815f9536",
            "8662d4556bf24ce3b59b0006e846f8b9",
            "c84837617b3f4532843f12ccfafc67ab",
            "3e2f2bfd18404e05bd63f36ad43f7001",
            "e0afd914dd63441281299ebfe1535ca8",
            "e5eeb1952e914b6d800903af5a80a4cc",
            "d16b46c08a0e48909c10cc24ec34ba6c",
            "eaa31b80b6e04ab897b5f6eff508c696",
            "96110fc253514e7aba4a2cc9bf19aab8",
            "bfd6d0bd38f645069a0f7f90ef7fbf01",
            "aae8cade7ffe4b94b2e5ade0e803a357",
            "c817e447ef1f4e7397e32d0e97186ab6",
            "dc26ff0ebe95484ead2b25e625fddc5a",
            "8b1e283f8ae44002849bd120c87362b5",
            "5891e71c80f74d2e828ba3846aa8590b",
            "a4c15832e1c7493eaee94c24d826705e",
            "272f39643c224160b1da599039da8e19",
            "2829fa6e1f464fb698e2989127b69a6e",
            "e22d3d89f4664863a4101f4574b5adba",
            "7c646ed3c5fe44c89b0742d135c2ebc3",
            "7b5ff5557e384a5c8e97e40d061d4459",
            "c958b7657cd94c8bb8871230a9bf5e61",
            "8b584a59b24f427b8511119b1a988ff3",
            "126ddac86a2d40eb95209364e9346a63",
            "9edcf12daf8142b99297fd72713b4edf",
            "b11ebe06906542dba8970fdf1406002d",
            "f1daa080b15b492f88c636eb903e8a77",
            "87d8f7b5ea544d19b5f228f50946e418",
            "1aaadd8d1fed496b866919d68abfc0c0",
            "5cb97f48e1884e04b596025928e0312f",
            "342c70d47ab04db8864c935d0d388ef7",
            "767d87f9cde24ab591e6a1d5a84333b8",
            "e9f847953b02446da43dcb191424f1f8",
            "bd62b4010b4d4ee8be378abac1aef1a6",
            "9f4f2e21e4e344d4a1ea870052f73776",
            "f90ceb825f29487289489059cc546fac",
            "4c945473421a49a5bb57ac6defeaa72e"
          ]
        },
        "id": "AIsAInEi56nD",
        "outputId": "7f365873-ca88-4693-8f15-5e03c78ab7b0"
      },
      "source": [
        "trainset = torchvision.datasets.MNIST(root='./data', \n",
        "                                        train=True,\n",
        "                                        download=True,\n",
        "                                        transform=transform)\n",
        "trainloader = torch.utils.data.DataLoader(trainset,\n",
        "                                            batch_size=batch_size,\n",
        "                                            shuffle=True,\n",
        "                                            num_workers=2)\n",
        "\n",
        "testset = torchvision.datasets.MNIST(root='./data', \n",
        "                                        train=False, \n",
        "                                        download=True, \n",
        "                                        transform=transform)\n",
        "testloader = torch.utils.data.DataLoader(testset, \n",
        "                                            batch_size=batch_size,\n",
        "                                            shuffle=False, \n",
        "                                            num_workers=2)"
      ],
      "execution_count": null,
      "outputs": [
        {
          "output_type": "stream",
          "text": [
            "Downloading http://yann.lecun.com/exdb/mnist/train-images-idx3-ubyte.gz\n",
            "Downloading http://yann.lecun.com/exdb/mnist/train-images-idx3-ubyte.gz to ./data/MNIST/raw/train-images-idx3-ubyte.gz\n"
          ],
          "name": "stdout"
        },
        {
          "output_type": "display_data",
          "data": {
            "application/vnd.jupyter.widget-view+json": {
              "model_id": "a297dfee944e4dd784b0b99f5bd23639",
              "version_minor": 0,
              "version_major": 2
            },
            "text/plain": [
              "  0%|          | 0/9912422 [00:00<?, ?it/s]"
            ]
          },
          "metadata": {
            "tags": []
          }
        },
        {
          "output_type": "stream",
          "text": [
            "Extracting ./data/MNIST/raw/train-images-idx3-ubyte.gz to ./data/MNIST/raw\n",
            "\n",
            "Downloading http://yann.lecun.com/exdb/mnist/train-labels-idx1-ubyte.gz\n",
            "Failed to download (trying next):\n",
            "HTTP Error 503: Service Unavailable\n",
            "\n",
            "Downloading https://ossci-datasets.s3.amazonaws.com/mnist/train-labels-idx1-ubyte.gz\n",
            "Downloading https://ossci-datasets.s3.amazonaws.com/mnist/train-labels-idx1-ubyte.gz to ./data/MNIST/raw/train-labels-idx1-ubyte.gz\n"
          ],
          "name": "stdout"
        },
        {
          "output_type": "display_data",
          "data": {
            "application/vnd.jupyter.widget-view+json": {
              "model_id": "e0afd914dd63441281299ebfe1535ca8",
              "version_minor": 0,
              "version_major": 2
            },
            "text/plain": [
              "  0%|          | 0/28881 [00:00<?, ?it/s]"
            ]
          },
          "metadata": {
            "tags": []
          }
        },
        {
          "output_type": "stream",
          "text": [
            "Extracting ./data/MNIST/raw/train-labels-idx1-ubyte.gz to ./data/MNIST/raw\n",
            "\n",
            "Downloading http://yann.lecun.com/exdb/mnist/t10k-images-idx3-ubyte.gz\n",
            "Failed to download (trying next):\n",
            "HTTP Error 503: Service Unavailable\n",
            "\n",
            "Downloading https://ossci-datasets.s3.amazonaws.com/mnist/t10k-images-idx3-ubyte.gz\n",
            "Downloading https://ossci-datasets.s3.amazonaws.com/mnist/t10k-images-idx3-ubyte.gz to ./data/MNIST/raw/t10k-images-idx3-ubyte.gz\n"
          ],
          "name": "stdout"
        },
        {
          "output_type": "display_data",
          "data": {
            "application/vnd.jupyter.widget-view+json": {
              "model_id": "a4c15832e1c7493eaee94c24d826705e",
              "version_minor": 0,
              "version_major": 2
            },
            "text/plain": [
              "  0%|          | 0/1648877 [00:00<?, ?it/s]"
            ]
          },
          "metadata": {
            "tags": []
          }
        },
        {
          "output_type": "stream",
          "text": [
            "Extracting ./data/MNIST/raw/t10k-images-idx3-ubyte.gz to ./data/MNIST/raw\n",
            "\n",
            "Downloading http://yann.lecun.com/exdb/mnist/t10k-labels-idx1-ubyte.gz\n",
            "Failed to download (trying next):\n",
            "HTTP Error 503: Service Unavailable\n",
            "\n",
            "Downloading https://ossci-datasets.s3.amazonaws.com/mnist/t10k-labels-idx1-ubyte.gz\n",
            "Downloading https://ossci-datasets.s3.amazonaws.com/mnist/t10k-labels-idx1-ubyte.gz to ./data/MNIST/raw/t10k-labels-idx1-ubyte.gz\n"
          ],
          "name": "stdout"
        },
        {
          "output_type": "display_data",
          "data": {
            "application/vnd.jupyter.widget-view+json": {
              "model_id": "f1daa080b15b492f88c636eb903e8a77",
              "version_minor": 0,
              "version_major": 2
            },
            "text/plain": [
              "  0%|          | 0/4542 [00:00<?, ?it/s]"
            ]
          },
          "metadata": {
            "tags": []
          }
        },
        {
          "output_type": "stream",
          "text": [
            "Extracting ./data/MNIST/raw/t10k-labels-idx1-ubyte.gz to ./data/MNIST/raw\n",
            "\n"
          ],
          "name": "stdout"
        },
        {
          "output_type": "stream",
          "text": [
            "/usr/local/lib/python3.7/dist-packages/torchvision/datasets/mnist.py:498: UserWarning: The given NumPy array is not writeable, and PyTorch does not support non-writeable tensors. This means you can write to the underlying (supposedly non-writeable) NumPy array using the tensor. You may want to copy the array to protect its data or make it writeable before converting it to a tensor. This type of warning will be suppressed for the rest of this program. (Triggered internally at  /pytorch/torch/csrc/utils/tensor_numpy.cpp:180.)\n",
            "  return torch.from_numpy(parsed.astype(m[2], copy=False)).view(*s)\n"
          ],
          "name": "stderr"
        }
      ]
    },
    {
      "cell_type": "code",
      "metadata": {
        "id": "_sHvDLm0-RLF"
      },
      "source": [
        "dataiter = iter(trainloader)\n",
        "images, labels = dataiter.next()"
      ],
      "execution_count": null,
      "outputs": []
    },
    {
      "cell_type": "code",
      "metadata": {
        "colab": {
          "base_uri": "https://localhost:8080/"
        },
        "id": "-MJg-yxt_r5p",
        "outputId": "35cab29d-4669-447c-e8cd-7e97826c3f99"
      },
      "source": [
        "images.size()"
      ],
      "execution_count": null,
      "outputs": [
        {
          "output_type": "execute_result",
          "data": {
            "text/plain": [
              "torch.Size([100, 1, 28, 28])"
            ]
          },
          "metadata": {
            "tags": []
          },
          "execution_count": 7
        }
      ]
    },
    {
      "cell_type": "code",
      "metadata": {
        "execution": {
          "iopub.status.busy": "2021-08-12T12:36:47.531722Z",
          "iopub.execute_input": "2021-08-12T12:36:47.532075Z",
          "iopub.status.idle": "2021-08-12T12:36:57.337428Z",
          "shell.execute_reply.started": "2021-08-12T12:36:47.532037Z",
          "shell.execute_reply": "2021-08-12T12:36:57.336495Z"
        },
        "trusted": true,
        "colab": {
          "base_uri": "https://localhost:8080/",
          "height": 178
        },
        "id": "BnnBTFsFY3-5",
        "outputId": "4ae4abd0-c2c0-4776-887c-68d4e6c93e4a"
      },
      "source": [
        "np_images=images.numpy()\n",
        "rows, cols = 5, 20\n",
        "fig, axs = plt.subplots(rows, cols, figsize = (20, 5))\n",
        "for i in range(rows):\n",
        "    for j in range(cols):\n",
        "        axs[i][j].imshow(np_images[cols*i + j, 0], cmap='gray')\n",
        "fig.tight_layout(pad=0.5)\n",
        "plt.show()"
      ],
      "execution_count": null,
      "outputs": [
        {
          "output_type": "display_data",
          "data": {
            "image/png": "[encoded data removed]",
            "text/plain": [
              "<Figure size 1440x360 with 100 Axes>"
            ]
          },
          "metadata": {
            "tags": [],
            "needs_background": "light"
          }
        }
      ]
    },
    {
      "cell_type": "code",
      "metadata": {
        "execution": {
          "iopub.status.busy": "2021-08-12T12:36:57.689325Z",
          "iopub.execute_input": "2021-08-12T12:36:57.68981Z",
          "iopub.status.idle": "2021-08-12T12:36:57.699555Z",
          "shell.execute_reply.started": "2021-08-12T12:36:57.689764Z",
          "shell.execute_reply": "2021-08-12T12:36:57.698517Z"
        },
        "trusted": true,
        "id": "J-HGrMeTY3-7"
      },
      "source": [
        "class myCNN(nn.Module):\n",
        "    def __init__(self):\n",
        "        super().__init__()\n",
        "        self.conv1=nn.Conv2d(1,6,5)\n",
        "        self.conv2=nn.Conv2d(6,16,3)\n",
        "        self.fc1=nn.Linear(16*5*5,120)\n",
        "        self.fc2=nn.Linear(120,84)\n",
        "        self.fc3=nn.Linear(84,10)\n",
        "        self.flatten=nn.Flatten()\n",
        "    def forward(self,x):\n",
        "        x=F.max_pool2d(F.relu(self.conv1(x)),(2,2))\n",
        "        x=F.max_pool2d(F.relu(self.conv2(x)),(2,2))\n",
        "        x=self.flatten(x)\n",
        "        x=F.relu(self.fc1(x))\n",
        "        x=F.relu(self.fc2(x))\n",
        "        x=self.fc3(x)\n",
        "        return x"
      ],
      "execution_count": null,
      "outputs": []
    },
    {
      "cell_type": "code",
      "metadata": {
        "execution": {
          "iopub.status.busy": "2021-08-12T12:36:57.700872Z",
          "iopub.execute_input": "2021-08-12T12:36:57.70126Z",
          "iopub.status.idle": "2021-08-12T12:36:57.715523Z",
          "shell.execute_reply.started": "2021-08-12T12:36:57.701225Z",
          "shell.execute_reply": "2021-08-12T12:36:57.714324Z"
        },
        "trusted": true,
        "colab": {
          "base_uri": "https://localhost:8080/"
        },
        "id": "FFVify-PY3-8",
        "outputId": "a1e86c87-2f25-470a-aa1f-68a6346a46cd"
      },
      "source": [
        "net=myCNN()\n",
        "print(net)"
      ],
      "execution_count": null,
      "outputs": [
        {
          "output_type": "stream",
          "text": [
            "myCNN(\n",
            "  (conv1): Conv2d(1, 6, kernel_size=(5, 5), stride=(1, 1))\n",
            "  (conv2): Conv2d(6, 16, kernel_size=(3, 3), stride=(1, 1))\n",
            "  (fc1): Linear(in_features=400, out_features=120, bias=True)\n",
            "  (fc2): Linear(in_features=120, out_features=84, bias=True)\n",
            "  (fc3): Linear(in_features=84, out_features=10, bias=True)\n",
            "  (flatten): Flatten(start_dim=1, end_dim=-1)\n",
            ")\n"
          ],
          "name": "stdout"
        }
      ]
    },
    {
      "cell_type": "code",
      "metadata": {
        "id": "PZzWVbuYY3_X"
      },
      "source": [
        "device=torch.device(\"cuda\" if torch.cuda.is_available() else \"cpu\")\n",
        "net.to(device)\n",
        "optimizer=optim.SGD(net.parameters(), lr=learning_rate)\n",
        "criterion=nn.CrossEntropyLoss()"
      ],
      "execution_count": null,
      "outputs": []
    },
    {
      "cell_type": "code",
      "metadata": {
        "execution": {
          "iopub.status.busy": "2021-08-12T12:36:59.644366Z",
          "iopub.execute_input": "2021-08-12T12:36:59.644839Z",
          "iopub.status.idle": "2021-08-12T12:37:14.893402Z",
          "shell.execute_reply.started": "2021-08-12T12:36:59.644798Z",
          "shell.execute_reply": "2021-08-12T12:37:14.892558Z"
        },
        "trusted": true,
        "colab": {
          "base_uri": "https://localhost:8080/"
        },
        "id": "0fwHDOXIY3_X",
        "outputId": "d0a86ea0-55f1-4461-d9f0-04b4d7004780"
      },
      "source": [
        "count=0\n",
        "loss_list = []\n",
        "iteration_list = []\n",
        "accuracy_list = []\n",
        "\n",
        "for epoch in range(num_epochs):\n",
        "    for i, (inputs, labels) in enumerate(trainloader):\n",
        "        inputs=inputs.to(device)\n",
        "        labels=labels.to(device)\n",
        "        outputs=net(inputs)\n",
        "        loss=criterion(outputs,labels)\n",
        "        net.zero_grad()\n",
        "        loss.backward()\n",
        "        optimizer.step()\n",
        "        if i % 200 == 199:\n",
        "            print(\"epoch #{}: {}~{}: loss {}\".format(epoch, i-199, i, loss))\n",
        "        if i % 100 == 99:\n",
        "            correct = 0\n",
        "            total = 0\n",
        "            for inputs, labels in testloader:\n",
        "                inputs=inputs.to(device)\n",
        "                labels=labels.to(device)\n",
        "                outputs=net(inputs)\n",
        "                predicted = torch.max(outputs.data, 1)[1]\n",
        "                total += len(labels)\n",
        "                correct += (predicted == labels).sum()\n",
        "            \n",
        "            accuracy = 100 * correct / float(total)\n",
        "            \n",
        "            loss_list.append(loss.data)\n",
        "            iteration_list.append(count)\n",
        "            accuracy_list.append(accuracy)\n",
        "        count+=1"
      ],
      "execution_count": null,
      "outputs": [
        {
          "output_type": "stream",
          "text": [
            "/usr/local/lib/python3.7/dist-packages/torch/nn/functional.py:718: UserWarning: Named tensors and all their associated APIs are an experimental feature and subject to change. Please do not use them for anything important until they are released as stable. (Triggered internally at  /pytorch/c10/core/TensorImpl.h:1156.)\n",
            "  return torch.max_pool2d(input, kernel_size, stride, padding, dilation, ceil_mode)\n"
          ],
          "name": "stderr"
        },
        {
          "output_type": "stream",
          "text": [
            "epoch #0: 0~199: loss 2.2383463382720947\n",
            "epoch #0: 200~399: loss 0.7882423996925354\n",
            "epoch #0: 400~599: loss 0.21037410199642181\n",
            "epoch #1: 0~199: loss 0.3499637246131897\n",
            "epoch #1: 200~399: loss 0.24276159703731537\n",
            "epoch #1: 400~599: loss 0.1497255563735962\n",
            "epoch #2: 0~199: loss 0.11243877559900284\n",
            "epoch #2: 200~399: loss 0.14931926131248474\n",
            "epoch #2: 400~599: loss 0.10374964773654938\n",
            "epoch #3: 0~199: loss 0.11695844680070877\n",
            "epoch #3: 200~399: loss 0.07170422375202179\n",
            "epoch #3: 400~599: loss 0.060769058763980865\n",
            "epoch #4: 0~199: loss 0.06399137526750565\n",
            "epoch #4: 200~399: loss 0.06776533275842667\n",
            "epoch #4: 400~599: loss 0.047311097383499146\n",
            "epoch #5: 0~199: loss 0.09395796805620193\n",
            "epoch #5: 200~399: loss 0.10348231345415115\n",
            "epoch #5: 400~599: loss 0.025095591321587563\n",
            "epoch #6: 0~199: loss 0.020322203636169434\n",
            "epoch #6: 200~399: loss 0.03250296413898468\n",
            "epoch #6: 400~599: loss 0.16185276210308075\n",
            "epoch #7: 0~199: loss 0.08691582083702087\n",
            "epoch #7: 200~399: loss 0.08224006742238998\n",
            "epoch #7: 400~599: loss 0.054541949182748795\n",
            "epoch #8: 0~199: loss 0.1831422597169876\n",
            "epoch #8: 200~399: loss 0.12761932611465454\n",
            "epoch #8: 400~599: loss 0.01248012762516737\n",
            "epoch #9: 0~199: loss 0.010965374298393726\n",
            "epoch #9: 200~399: loss 0.01927582360804081\n",
            "epoch #9: 400~599: loss 0.027355514466762543\n",
            "epoch #10: 0~199: loss 0.033569954335689545\n",
            "epoch #10: 200~399: loss 0.013018994592130184\n",
            "epoch #10: 400~599: loss 0.05368012934923172\n",
            "epoch #11: 0~199: loss 0.009888348169624805\n",
            "epoch #11: 200~399: loss 0.017871476709842682\n",
            "epoch #11: 400~599: loss 0.01821875013411045\n",
            "epoch #12: 0~199: loss 0.012255541980266571\n",
            "epoch #12: 200~399: loss 0.013150217942893505\n",
            "epoch #12: 400~599: loss 0.08129920810461044\n",
            "epoch #13: 0~199: loss 0.01345408707857132\n",
            "epoch #13: 200~399: loss 0.02581716515123844\n",
            "epoch #13: 400~599: loss 0.1195521131157875\n",
            "epoch #14: 0~199: loss 0.005747941322624683\n",
            "epoch #14: 200~399: loss 0.046139612793922424\n",
            "epoch #14: 400~599: loss 0.0033620609901845455\n",
            "epoch #15: 0~199: loss 0.0026284591294825077\n",
            "epoch #15: 200~399: loss 0.17557062208652496\n",
            "epoch #15: 400~599: loss 0.011992309242486954\n",
            "epoch #16: 0~199: loss 0.004209184553474188\n",
            "epoch #16: 200~399: loss 0.09661225229501724\n",
            "epoch #16: 400~599: loss 0.003975520841777325\n",
            "epoch #17: 0~199: loss 0.03866095095872879\n",
            "epoch #17: 200~399: loss 0.07386184483766556\n",
            "epoch #17: 400~599: loss 0.0688975527882576\n",
            "epoch #18: 0~199: loss 0.019370311871170998\n",
            "epoch #18: 200~399: loss 0.02487625926733017\n",
            "epoch #18: 400~599: loss 0.0174079779535532\n",
            "epoch #19: 0~199: loss 0.019926272332668304\n",
            "epoch #19: 200~399: loss 0.007672366686165333\n",
            "epoch #19: 400~599: loss 0.02398194558918476\n",
            "epoch #20: 0~199: loss 0.015138084068894386\n",
            "epoch #20: 200~399: loss 0.016657743602991104\n",
            "epoch #20: 400~599: loss 0.001899393042549491\n",
            "epoch #21: 0~199: loss 0.07445033639669418\n",
            "epoch #21: 200~399: loss 0.08248727768659592\n",
            "epoch #21: 400~599: loss 0.006584316026419401\n",
            "epoch #22: 0~199: loss 0.043905772268772125\n",
            "epoch #22: 200~399: loss 0.004452873487025499\n",
            "epoch #22: 400~599: loss 0.01628752052783966\n",
            "epoch #23: 0~199: loss 0.05946023762226105\n",
            "epoch #23: 200~399: loss 0.012926961295306683\n",
            "epoch #23: 400~599: loss 0.007444244809448719\n",
            "epoch #24: 0~199: loss 0.029652593657374382\n",
            "epoch #24: 200~399: loss 0.06359901279211044\n",
            "epoch #24: 400~599: loss 0.02034400962293148\n",
            "epoch #25: 0~199: loss 0.04700149595737457\n",
            "epoch #25: 200~399: loss 0.039082884788513184\n",
            "epoch #25: 400~599: loss 0.004024455323815346\n",
            "epoch #26: 0~199: loss 0.011532488279044628\n",
            "epoch #26: 200~399: loss 0.038629576563835144\n",
            "epoch #26: 400~599: loss 0.0020808419212698936\n",
            "epoch #27: 0~199: loss 0.008350102230906487\n",
            "epoch #27: 200~399: loss 0.012464256025850773\n",
            "epoch #27: 400~599: loss 0.010447471402585506\n",
            "epoch #28: 0~199: loss 0.009222534485161304\n",
            "epoch #28: 200~399: loss 0.004867547191679478\n",
            "epoch #28: 400~599: loss 0.0017905613640323281\n",
            "epoch #29: 0~199: loss 0.049045804888010025\n",
            "epoch #29: 200~399: loss 0.01183228101581335\n",
            "epoch #29: 400~599: loss 0.021425096318125725\n",
            "epoch #30: 0~199: loss 0.04476003348827362\n",
            "epoch #30: 200~399: loss 0.015490296296775341\n",
            "epoch #30: 400~599: loss 0.007098747417330742\n",
            "epoch #31: 0~199: loss 0.0013287332840263844\n",
            "epoch #31: 200~399: loss 0.041292596608400345\n",
            "epoch #31: 400~599: loss 0.03207993879914284\n",
            "epoch #32: 0~199: loss 0.01300132181495428\n",
            "epoch #32: 200~399: loss 0.025271877646446228\n",
            "epoch #32: 400~599: loss 0.02143305353820324\n",
            "epoch #33: 0~199: loss 0.005220792721956968\n",
            "epoch #33: 200~399: loss 0.008959881961345673\n",
            "epoch #33: 400~599: loss 0.01255408301949501\n",
            "epoch #34: 0~199: loss 0.03507910668849945\n",
            "epoch #34: 200~399: loss 0.00266687897965312\n",
            "epoch #34: 400~599: loss 0.0022107118275016546\n",
            "epoch #35: 0~199: loss 0.006412591319531202\n",
            "epoch #35: 200~399: loss 0.0016820175806060433\n",
            "epoch #35: 400~599: loss 0.012903455644845963\n",
            "epoch #36: 0~199: loss 0.002431135391816497\n",
            "epoch #36: 200~399: loss 0.001916140434332192\n",
            "epoch #36: 400~599: loss 0.0026268265210092068\n",
            "epoch #37: 0~199: loss 0.008326265029609203\n",
            "epoch #37: 200~399: loss 0.0008950373739935458\n",
            "epoch #37: 400~599: loss 0.011185402050614357\n",
            "epoch #38: 0~199: loss 0.0016438731690868735\n",
            "epoch #38: 200~399: loss 0.006494111847132444\n",
            "epoch #38: 400~599: loss 0.0012034553801640868\n",
            "epoch #39: 0~199: loss 0.001659867586567998\n",
            "epoch #39: 200~399: loss 0.0009860056452453136\n",
            "epoch #39: 400~599: loss 0.00023383361985906959\n",
            "epoch #40: 0~199: loss 0.0032702863682061434\n",
            "epoch #40: 200~399: loss 0.004216623958200216\n",
            "epoch #40: 400~599: loss 0.00039339513750746846\n",
            "epoch #41: 0~199: loss 0.0015308429719880223\n",
            "epoch #41: 200~399: loss 0.023305902257561684\n",
            "epoch #41: 400~599: loss 0.005870926193892956\n",
            "epoch #42: 0~199: loss 0.08638991415500641\n",
            "epoch #42: 200~399: loss 0.005466862116008997\n",
            "epoch #42: 400~599: loss 0.0015114834532141685\n",
            "epoch #43: 0~199: loss 0.0039024376310408115\n",
            "epoch #43: 200~399: loss 0.0021216189488768578\n",
            "epoch #43: 400~599: loss 0.0009112342959269881\n",
            "epoch #44: 0~199: loss 0.00010153267794521526\n",
            "epoch #44: 200~399: loss 0.008676229976117611\n",
            "epoch #44: 400~599: loss 0.005729658994823694\n",
            "epoch #45: 0~199: loss 0.0022057013120502234\n",
            "epoch #45: 200~399: loss 0.00801041442900896\n",
            "epoch #45: 400~599: loss 0.002990534994751215\n",
            "epoch #46: 0~199: loss 0.0015136237489059567\n",
            "epoch #46: 200~399: loss 0.006358896382153034\n",
            "epoch #46: 400~599: loss 0.0034816358238458633\n",
            "epoch #47: 0~199: loss 0.034665949642658234\n",
            "epoch #47: 200~399: loss 0.004337142687290907\n",
            "epoch #47: 400~599: loss 0.07796943187713623\n",
            "epoch #48: 0~199: loss 0.003317546332255006\n",
            "epoch #48: 200~399: loss 0.00035130989272147417\n",
            "epoch #48: 400~599: loss 0.0028020991012454033\n",
            "epoch #49: 0~199: loss 0.020390158519148827\n",
            "epoch #49: 200~399: loss 0.00019926586537621915\n",
            "epoch #49: 400~599: loss 0.007211183197796345\n"
          ],
          "name": "stdout"
        }
      ]
    },
    {
      "cell_type": "code",
      "metadata": {
        "colab": {
          "base_uri": "https://localhost:8080/",
          "height": 573
        },
        "id": "hJ6pYoKv8mt0",
        "outputId": "95d7d588-9516-4b80-c5bd-baa00d123ad3"
      },
      "source": [
        "plt.plot(iteration_list,loss_list)\n",
        "plt.xlabel(\"Number of iteration\")\n",
        "plt.ylabel(\"Loss\")\n",
        "plt.title(\"CNN: Loss vs Number of iteration\")\n",
        "plt.show()\n",
        "\n",
        "plt.plot(iteration_list,accuracy_list,color = \"red\")\n",
        "plt.xlabel(\"Number of iteration\")\n",
        "plt.ylabel(\"Accuracy\")\n",
        "plt.title(\"CNN: Accuracy vs Number of iteration\")\n",
        "plt.show()"
      ],
      "execution_count": null,
      "outputs": [
        {
          "output_type": "display_data",
          "data": {
            "image/png": "[encoded data removed]",
            "text/plain": [
              "<Figure size 432x288 with 1 Axes>"
            ]
          },
          "metadata": {
            "tags": [],
            "needs_background": "light"
          }
        },
        {
          "output_type": "display_data",
          "data": {
            "image/png": "[encoded data removed]",
            "text/plain": [
              "<Figure size 432x288 with 1 Axes>"
            ]
          },
          "metadata": {
            "tags": [],
            "needs_background": "light"
          }
        }
      ]
    },
    {
      "cell_type": "code",
      "metadata": {
        "colab": {
          "base_uri": "https://localhost:8080/"
        },
        "id": "EW9Xqv59adiP",
        "outputId": "128549ef-7bdf-4b74-f81d-99e9fca112b0"
      },
      "source": [
        "print(accuracy_list[-1])"
      ],
      "execution_count": null,
      "outputs": [
        {
          "output_type": "stream",
          "text": [
            "tensor(98.8600, device='cuda:0')\n"
          ],
          "name": "stdout"
        }
      ]
    },
    {
      "cell_type": "code",
      "metadata": {
        "id": "WU4SMUMJadcI"
      },
      "source": [
        ""
      ],
      "execution_count": null,
      "outputs": []
    }
  ]
}